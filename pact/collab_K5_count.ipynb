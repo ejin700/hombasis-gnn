{
 "cells": [
  {
   "cell_type": "code",
   "execution_count": 1,
   "id": "5fca98c3",
   "metadata": {},
   "outputs": [],
   "source": [
    "import os\n",
    "import ogb\n",
    "import json\n",
    "import networkx as nx\n",
    "import pandas as pd\n",
    "from ogb.linkproppred import PygLinkPropPredDataset\n",
    "\n",
    "from pact.spasmspace import SpasmSpace\n",
    "from pact.graphwrapper import GraphWrapper\n",
    "from pact.ui import default_progressbar\n",
    "from pact.naive_exec import naive_pandas_plan_exec, _undir_df_degree_thres, sliced_pandas_homcount\n",
    "import dill\n",
    "import multiprocess as mp\n",
    "\n",
    "import random\n",
    "\n",
    "MAX_THREADS = 20\n",
    "OUTPUT_FILE = f'collab/clique5_counts.json'\n",
    "_SPARSIFY = None\n",
    "\n",
    "# provide path to file for K4 counts on collab\n",
    "CLIQUE4_COUNTS = 'counts/collab/collab_clique4_counts.json'\n"
   ]
  },
  {
   "cell_type": "markdown",
   "id": "4827d53b",
   "metadata": {},
   "source": [
    "# Setup Data"
   ]
  },
  {
   "cell_type": "code",
   "execution_count": 2,
   "id": "89b652c0",
   "metadata": {},
   "outputs": [],
   "source": [
    "dataset = PygLinkPropPredDataset(name = \"ogbl-collab\", root = 'dataset/')\n",
    "data = dataset[0]"
   ]
  },
  {
   "cell_type": "code",
   "execution_count": 3,
   "id": "4b632589",
   "metadata": {},
   "outputs": [
    {
     "name": "stdout",
     "output_type": "stream",
     "text": [
      "235868 967632\n"
     ]
    }
   ],
   "source": [
    "edges = [[x.item() for x in e] for e in dataset.get_edge_split()['train']['edge']]\n",
    "G = nx.from_edgelist(edges)\n",
    "print(G.order(), G.size())\n",
    "\n",
    "def sparsify(sz):\n",
    "    global G\n",
    "    subg = random.sample(list(G.nodes), sz)\n",
    "    G = nx.induced_subgraph(G, subg)\n",
    "    print(G.order(), G.size())\n",
    "    \n",
    "if _SPARSIFY is not None:\n",
    "    sparsify(_SPARSIFY)"
   ]
  },
  {
   "cell_type": "code",
   "execution_count": 4,
   "id": "23f2c350",
   "metadata": {},
   "outputs": [],
   "source": [
    "\n",
    "with open(CLIQUE4_COUNTS, 'r') as f:\n",
    "    allcounts = json.loads(f.read())\n",
    "\n",
    "ink4 = {int(v) : sum(k4count)/24 for v,k4count in allcounts.items() if sum(k4count) > 0}\n",
    "\n",
    "K4_vertices_set = set(ink4.keys())"
   ]
  },
  {
   "cell_type": "code",
   "execution_count": 5,
   "id": "d4ccc2e8",
   "metadata": {},
   "outputs": [],
   "source": [
    "K4_vertices = list(K4_vertices_set)\n",
    "neighbors = dict()\n",
    "for v in K4_vertices:\n",
    "    neighbors[v] = set.intersection(K4_vertices_set, set(G.neighbors(v)))"
   ]
  },
  {
   "cell_type": "code",
   "execution_count": 6,
   "id": "dafae465",
   "metadata": {},
   "outputs": [
    {
     "data": {
      "application/vnd.jupyter.widget-view+json": {
       "model_id": "e0a94941f26343748171f451074a568b",
       "version_major": 2,
       "version_minor": 0
      },
      "text/plain": [
       "Output()"
      ]
     },
     "metadata": {},
     "output_type": "display_data"
    },
    {
     "data": {
      "text/html": [
       "<pre style=\"white-space:pre;overflow-x:auto;line-height:normal;font-family:Menlo,'DejaVu Sans Mono',consolas,'Courier New',monospace\"></pre>\n"
      ],
      "text/plain": []
     },
     "metadata": {},
     "output_type": "display_data"
    },
    {
     "data": {
      "text/html": [
       "<pre style=\"white-space:pre;overflow-x:auto;line-height:normal;font-family:Menlo,'DejaVu Sans Mono',consolas,'Courier New',monospace\">\n",
       "</pre>\n"
      ],
      "text/plain": [
       "\n"
      ]
     },
     "metadata": {},
     "output_type": "display_data"
    }
   ],
   "source": [
    "pool = mp.Pool(MAX_THREADS)\n",
    "\n",
    "def count_k5s_from(v1):\n",
    "    acc = 0\n",
    "    N1 = neighbors[v1]\n",
    "    for v2 in N1:\n",
    "        N2 = set.intersection(N1, neighbors[v2])\n",
    "        for v3 in N2:\n",
    "            N3 = set.intersection(N2, neighbors[v3])\n",
    "            for v4 in N3:\n",
    "                N4 = set.intersection(N3, neighbors[v4])\n",
    "                for v5 in N4:\n",
    "                    acc += 1\n",
    "    return v1, acc\n",
    "\n",
    "with default_progressbar() as progress:\n",
    "    K5s = {}\n",
    "    allvs = K4_vertices\n",
    "    track = progress.track(pool.imap_unordered(count_k5s_from, allvs), total=len(allvs))\n",
    "    for v, count in track:\n",
    "        K5s[v] = [count * 4*3*2] \n",
    "        # we multiply by 4! to get the actual homomorphism count instead of the anchored subgraph count\n",
    "#K5s"
   ]
  },
  {
   "cell_type": "code",
   "execution_count": 10,
   "id": "245455ea",
   "metadata": {},
   "outputs": [],
   "source": [
    "with open(OUTPUT_FILE, 'w') as f:\n",
    "    f.write(json.dumps(K5s))"
   ]
  },
  {
   "cell_type": "code",
   "execution_count": null,
   "id": "81f27d24",
   "metadata": {},
   "outputs": [],
   "source": []
  }
 ],
 "metadata": {
  "kernelspec": {
   "display_name": "Python 3 (ipykernel)",
   "language": "python",
   "name": "python3"
  },
  "language_info": {
   "codemirror_mode": {
    "name": "ipython",
    "version": 3
   },
   "file_extension": ".py",
   "mimetype": "text/x-python",
   "name": "python",
   "nbconvert_exporter": "python",
   "pygments_lexer": "ipython3",
   "version": "3.11.5"
  }
 },
 "nbformat": 4,
 "nbformat_minor": 5
}
