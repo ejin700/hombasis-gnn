{
 "cells": [
  {
   "cell_type": "markdown",
   "id": "378c2a33",
   "metadata": {},
   "source": [
    "# Initial Setup\n",
    "\n",
    "In a first step we collect all the graphs we need for some given pattern. For this we overapproximate the set of graphs in the spasm by simply taking all graphs with less vertices and less or equal number of edges. \n",
    "This forms the spasm space, for this space we compute the homomorphism basis (most of them usually will have coefficient 0, i.e., they aren't in the basis and will thus be ignored going forward)."
   ]
  },
  {
   "cell_type": "code",
   "execution_count": 14,
   "id": "a1df942b",
   "metadata": {},
   "outputs": [],
   "source": [
    "from pact.hombase import hombase_coeffs_nauty\n",
    "from pact.spasmspace import SpasmSpace\n",
    "from pact.graphwrapper import GraphWrapper\n",
    "from pact.ui import default_progressbar\n",
    "\n",
    "import dill\n",
    "import os\n",
    "import networkx as nx\n",
    "import multiprocess as mp\n",
    "\n",
    "import math\n",
    "\n",
    "_MIN_TW_INJECT = 1 # lowest tw for which homs are created\n",
    "THREADS = 3\n",
    "CYCLE_LEN = 8\n",
    "BASIS_PATH = 'gnnstuff/bases/'\n",
    "if not os.path.exists(BASIS_PATH):\n",
    "    os.makedirs(BASIS_PATH)\n",
    "\n",
    "BASIS_FILE = f'{BASIS_PATH}/cycle{CYCLE_LEN}_basis.json'\n",
    "\n",
    "\n",
    "# change here if we're not doing cycles, this is the pattern that we're using the subgraph basis of\n",
    "nxP = nx.cycle_graph(CYCLE_LEN)"
   ]
  },
  {
   "cell_type": "code",
   "execution_count": 15,
   "id": "bcd4e18e",
   "metadata": {},
   "outputs": [
    {
     "data": {
      "image/png": "[encoded data removed]",
      "text/plain": [
       "<Figure size 640x480 with 1 Axes>"
      ]
     },
     "metadata": {},
     "output_type": "display_data"
    }
   ],
   "source": [
    "\n",
    "P = GraphWrapper(nxP)\n",
    "\n",
    "spsp = SpasmSpace()\n",
    "Pbasis = hombase_coeffs_nauty(P, spsp, expand_space=True)\n",
    "spsp.cleanup_for_storage()\n",
    "\n",
    "nx.draw(P.graph)"
   ]
  },
  {
   "cell_type": "markdown",
   "id": "7603bce8",
   "metadata": {},
   "source": [
    "# Preprocessing for patterns in basis\n",
    "\n",
    "To actually count the homomormphisms we comptue tree decompositions of all graphs in the basis. From those tree decompositions we create cexecution plans (the `plan` attribute)."
   ]
  },
  {
   "cell_type": "code",
   "execution_count": 16,
   "id": "a7c2eeeb",
   "metadata": {},
   "outputs": [],
   "source": [
    "from pact.balgowrapper import balgo_multitry_for_cheapest_decomp\n",
    "from pact.planner import node_to_ops, node_to_ops_earlysj\n",
    "from pact.treedecomp import td_nodes_it\n",
    "\n",
    "_MARK_VTX = 0\n",
    "\n",
    "\n",
    "def find_v_in_childbag(td, v):\n",
    "    for u in td_nodes_it(td):\n",
    "        for c in u.children:\n",
    "            if v in c.bag:\n",
    "                return u,c\n",
    "    return None\n",
    "\n",
    "def find_parent(td, c):\n",
    "    for u in td_nodes_it(td):\n",
    "        if c in u.children:\n",
    "            return u\n",
    "    return None\n",
    "            \n",
    "def guarantee_v_in_root(td, v):\n",
    "    if v in td.bag:\n",
    "        return td\n",
    "    p, c = find_v_in_childbag(td, v)\n",
    "    newroot = c\n",
    "    \n",
    "    while p is not None:\n",
    "        # delete c from p.children, add p into c.children\n",
    "        p.children.remove(c)\n",
    "        c.children.append(p)\n",
    "        \n",
    "        # repeat upwards\n",
    "        c = p\n",
    "        p = find_parent(td, c)\n",
    "    return newroot\n",
    "\n",
    "for fid in Pbasis.keys():\n",
    "    F = spsp[fid]\n",
    "    decomp, badness = balgo_multitry_for_cheapest_decomp(F, times=20, threads=THREADS)\n",
    "    \n",
    "    # we change the root of the decomposition to guarantee that vertex with label _MARK_VTX is\n",
    "    # in the root (this is to guarantee consistent vertex-level counts, \n",
    "    # i.e., for each v we count homs(P,G)[_MARK_VTX -> v])\n",
    "    decomp = guarantee_v_in_root(decomp, _MARK_VTX)\n",
    "    F.td = decomp\n",
    "    F.td_badness = badness\n",
    "\n",
    "    F.plan = node_to_ops_earlysj(F.td)"
   ]
  },
  {
   "cell_type": "code",
   "execution_count": 17,
   "id": "b215eaa1",
   "metadata": {},
   "outputs": [],
   "source": [
    "spsp.cleanup_for_storage()\n",
    "toserialise = {'SpasmSpace': spsp, 'basis': Pbasis}\n",
    "\n",
    "with open(BASIS_FILE, 'wb') as f:\n",
    "    f.write(dill.dumps(toserialise))"
   ]
  },
  {
   "cell_type": "code",
   "execution_count": null,
   "id": "2aef8773",
   "metadata": {},
   "outputs": [],
   "source": []
  }
 ],
 "metadata": {
  "kernelspec": {
   "display_name": "Python 3 (ipykernel)",
   "language": "python",
   "name": "python3"
  },
  "language_info": {
   "codemirror_mode": {
    "name": "ipython",
    "version": 3
   },
   "file_extension": ".py",
   "mimetype": "text/x-python",
   "name": "python",
   "nbconvert_exporter": "python",
   "pygments_lexer": "ipython3",
   "version": "3.10.13"
  }
 },
 "nbformat": 4,
 "nbformat_minor": 5
}
