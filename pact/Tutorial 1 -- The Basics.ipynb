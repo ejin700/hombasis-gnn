{
 "cells": [
  {
   "cell_type": "markdown",
   "id": "7167adf3",
   "metadata": {},
   "source": [
    "# Counting Subgraphs with PACT\n",
    "\n",
    "This notebook is intended as a quick practical introduction for the most basic way to count subgraphs using **PACT (PAttern Counting Toolkit)**.\n",
    "\n",
    "We will work through a running example in which we want to count the how often all 7 node trees occur as subgraphs in an example host graph. The folder `data/tutorial` should contain files describing all of our pattern graphs (the trees with 7 nodes), the full *spasm base* of our patterns, and a host graph file `schi_pombe.gml`. The pattern and spasm base graphs were created with nauty (their creation process is described in detail at the end of this tutorial).  Our example host graph is the PPI network of *Schizosaccharomyces pombe* (fission yeast), derived from the [BioGRID](https://thebiogrid.org/) dataset.\n"
   ]
  },
  {
   "cell_type": "markdown",
   "id": "866790a0",
   "metadata": {},
   "source": [
    "# Part 1: Pattern Precomputations\n",
    "\n",
    "Our overall intention is to compute the number of times a pattern $P$ occurrs as a subgraph in hostgraph $H$, in short we write $\\#Sub(P \\rightarrow H)$ for this number. We will do so using the following identity:\n",
    "\n",
    "$$\\#Sub(P \\rightarrow H) = \\sum_{F \\in Spasm(P)} \\mu(F,P) \\cdot \\#Hom(F \\rightarrow H)$$\n",
    "\n",
    "where\n",
    "  - $Spasm(P)$ is the set of all homomorphic loop-free images of $P$,\n",
    "  - $\\mu(F,P)$ is a coefficient depending on $P$ and $H$, and\n",
    "  -  $\\#Hom(F \\rightarrow H)$ is the number of homomorphisms from $F$ into $H$.\n",
    "  \n",
    "We will refer to the set $Spasm(P)$ together with the corresponding coefficients $\\mu$ as the *homomorphism base* of $P$. Computing the homomorphism base as well as $\\#Hom$ is computationally expensive, but more flexible and cheaper (for larger patterns) than other known methods of obtaining $\\#Sub(P \\rightarrow H)$. \n",
    "\n",
    "Note that the identity is not a heuristic or similar, the resulting count is the **exact** number of non-induced subgraph occurrences of $P$ in $H$."
   ]
  },
  {
   "cell_type": "code",
   "execution_count": 1,
   "id": "ff036059",
   "metadata": {},
   "outputs": [],
   "source": [
    "%load_ext rich\n",
    "%load_ext autoreload\n",
    "%autoreload 2\n",
    "import networkx as nx\n",
    "import matplotlib.pyplot as plt\n",
    "from itertools import islice\n",
    "plt.rcParams[\"figure.figsize\"] = (2, 2)"
   ]
  },
  {
   "cell_type": "markdown",
   "id": "0cc33c45",
   "metadata": {},
   "source": [
    "## Loading the Patterns\n",
    "\n",
    "For convenience we use the settings module for a unified interface to input files for different scenarios. Ideally, simply switching the imported settings allows us to seemlessly change the analysed patterns and spasm graphs.\n",
    "\n",
    "The individual graphs are stored as `GraphWrapper` objects, which wraps networkx graphs with various additional information that will be useful for our subgraph counting process, like a unique `id`. We do nothing else special with the patterns and just store them in a standard python contain (here a dictionary, indexed by the graphs internal id)."
   ]
  },
  {
   "cell_type": "code",
   "execution_count": 2,
   "id": "71693ed9",
   "metadata": {},
   "outputs": [],
   "source": [
    "import settings.tutorial as settings\n",
    "from pact.graphwrapper import GraphWrapper\n",
    "\n",
    "patterns = dict()\n",
    "\n",
    "with open(settings.raw_pattern_filename(), 'r') as f:\n",
    "    lines = map(str.rstrip, f.readlines())\n",
    "    for line in lines:\n",
    "        G = GraphWrapper.from_g6str(line, **settings.PATTERN_GRAPHWRAPPER_PARAMS)\n",
    "        patterns[G.id] = G"
   ]
  },
  {
   "cell_type": "code",
   "execution_count": 3,
   "id": "b90daee9",
   "metadata": {},
   "outputs": [
    {
     "data": {
      "image/png": "[encoded data removed]"
     },
     "metadata": {},
     "output_type": "display_data"
    }
   ],
   "source": [
    "ex_pat = list(patterns.values())[-2]\n",
    "nx.draw(ex_pat.graph)"
   ]
  },
  {
   "cell_type": "markdown",
   "id": "eab29362",
   "metadata": {},
   "source": [
    "## The Spasm Space\n",
    "\n",
    "In the basic usage of PACT for subgraph counting we also explicitly specify a *spasm space*. Formally this is a set of graphs $S$ such that $Spasm(P) \\subseteq S$ for each pattern $P$ that we want to count.\n",
    "\n",
    "Since our patterns are all the trees with 7 nodes, we know that the spasm space must contain all connected graphs with at most 7 nodes and 6 edges.\n",
    "\n",
    "The spasm space is stored in a special `SpasmSpace` object, which implements various techniques for optimising later computations."
   ]
  },
  {
   "cell_type": "code",
   "execution_count": 4,
   "id": "098a4f5f",
   "metadata": {},
   "outputs": [],
   "source": [
    "from pact.spasmspace import SpasmSpace\n",
    "\n",
    "spasm_space = SpasmSpace()\n",
    "\n",
    "for sf in settings.raw_spasm_filenames():\n",
    "    with open(sf) as f:\n",
    "        lines = list(map(str.rstrip, f.readlines()))\n",
    "        spasm_space.add_from_g6lines(lines, settings.SPASM_GRAPHWRAPPER_PARAMS)"
   ]
  },
  {
   "cell_type": "markdown",
   "id": "dbbbb64a",
   "metadata": {},
   "source": [
    "We'll get an example graph `ex_graph` from the spasm space to illustrate some operations going forward.\n",
    "\n",
    "To get an interesting graph we can use the `iter_by_ev(x, y)` method which gives us an iterator over all graphs in the spasm space with *x* edgs and *y* vertices. We can then draw the graph using networkx by accessing the graph attribute, which stores the networkx graph inside our wrapped graph."
   ]
  },
  {
   "cell_type": "code",
   "execution_count": 5,
   "id": "58f515ec",
   "metadata": {},
   "outputs": [
    {
     "data": {
      "image/png": "[encoded data removed]"
     },
     "metadata": {},
     "output_type": "display_data"
    }
   ],
   "source": [
    "ex_graph = next(spasm_space.iter_by_ev(6,5))\n",
    "nx.draw(ex_graph.graph, with_labels=True, font_color='w')"
   ]
  },
  {
   "cell_type": "markdown",
   "id": "94fe069e",
   "metadata": {},
   "source": [
    "## Computing the Homomorphism Base of Patterns\n",
    "\n",
    "The homomorphism base of a graph $P$ are those graphs in the spasm space for which the coefficient $\\mu_F$ in the sum above is not zero. This can be quite costly to compute for larger patterns, but it is independent of the host graph and can therefore be pre-computed once.\n",
    "\n",
    "The `hombase_coeffs` function is the basic way to compute the homomorphism base. The function takes as a second parameter a spasm space that must contain all possible graphs in the spasm of the pattern $P$. The homomorphism base is returned as a dictionary with elements of the form $id(F): \\mu(F,P)$ for each graph $F$ in the spasm of $P$. The id's refer to the id of $F$ in the given spasm space.\n",
    "\n",
    "Since we will have to deal with very large numbers of homomorphisms, high precision arithmetic is important here. For this we use the [gmpy2](https://gmpy2.readthedocs.io/en/latest/index.html) package which provides python bindings for the [GNU Multiprecission](https://gmplib.org/) library. In particular, we use the `mpq` type for rational numbers as the coefficients are guaranteed to be rational."
   ]
  },
  {
   "cell_type": "code",
   "execution_count": 6,
   "id": "0ff80895",
   "metadata": {},
   "outputs": [
    {
     "data": {
      "text/html": [
       "<pre style=\"white-space:pre;overflow-x:auto;line-height:normal;font-family:Menlo,'DejaVu Sans Mono',consolas,'Courier New',monospace\">\n",
       "<span style=\"font-weight: bold\">{</span>\n",
       "    <span style=\"color: #008080; text-decoration-color: #008080; font-weight: bold\">165850954815882573261101579101827098358</span>: <span style=\"color: #800080; text-decoration-color: #800080; font-weight: bold\">mpq</span><span style=\"font-weight: bold\">(</span><span style=\"color: #008080; text-decoration-color: #008080; font-weight: bold\">-3</span>,<span style=\"color: #008080; text-decoration-color: #008080; font-weight: bold\">1</span><span style=\"font-weight: bold\">)</span>,\n",
       "    <span style=\"color: #008080; text-decoration-color: #008080; font-weight: bold\">78333310855796287558858939065325830954</span>: <span style=\"color: #800080; text-decoration-color: #800080; font-weight: bold\">mpq</span><span style=\"font-weight: bold\">(</span><span style=\"color: #008080; text-decoration-color: #008080; font-weight: bold\">35</span>,<span style=\"color: #008080; text-decoration-color: #008080; font-weight: bold\">2</span><span style=\"font-weight: bold\">)</span>,\n",
       "    <span style=\"color: #008080; text-decoration-color: #008080; font-weight: bold\">303414898855562656201290561786245995556</span>: <span style=\"color: #800080; text-decoration-color: #800080; font-weight: bold\">mpq</span><span style=\"font-weight: bold\">(</span><span style=\"color: #008080; text-decoration-color: #008080; font-weight: bold\">10</span>,<span style=\"color: #008080; text-decoration-color: #008080; font-weight: bold\">1</span><span style=\"font-weight: bold\">)</span>,\n",
       "    <span style=\"color: #008080; text-decoration-color: #008080; font-weight: bold\">110549758256875373219715569694639490195</span>: <span style=\"color: #800080; text-decoration-color: #800080; font-weight: bold\">mpq</span><span style=\"font-weight: bold\">(</span><span style=\"color: #008080; text-decoration-color: #008080; font-weight: bold\">-8</span>,<span style=\"color: #008080; text-decoration-color: #008080; font-weight: bold\">1</span><span style=\"font-weight: bold\">)</span>,\n",
       "    <span style=\"color: #008080; text-decoration-color: #008080; font-weight: bold\">223136372572965624571741167172143352088</span>: <span style=\"color: #800080; text-decoration-color: #800080; font-weight: bold\">mpq</span><span style=\"font-weight: bold\">(</span><span style=\"color: #008080; text-decoration-color: #008080; font-weight: bold\">-3</span>,<span style=\"color: #008080; text-decoration-color: #008080; font-weight: bold\">2</span><span style=\"font-weight: bold\">)</span>,\n",
       "    <span style=\"color: #008080; text-decoration-color: #008080; font-weight: bold\">47693011321269647785466125402148551179</span>: <span style=\"color: #800080; text-decoration-color: #800080; font-weight: bold\">mpq</span><span style=\"font-weight: bold\">(</span><span style=\"color: #008080; text-decoration-color: #008080; font-weight: bold\">-79</span>,<span style=\"color: #008080; text-decoration-color: #008080; font-weight: bold\">4</span><span style=\"font-weight: bold\">)</span>,\n",
       "    <span style=\"color: #008080; text-decoration-color: #008080; font-weight: bold\">152037926432527496922685215149030498609</span>: <span style=\"color: #800080; text-decoration-color: #800080; font-weight: bold\">mpq</span><span style=\"font-weight: bold\">(</span><span style=\"color: #008080; text-decoration-color: #008080; font-weight: bold\">-9</span>,<span style=\"color: #008080; text-decoration-color: #008080; font-weight: bold\">2</span><span style=\"font-weight: bold\">)</span>,\n",
       "    <span style=\"color: #008080; text-decoration-color: #008080; font-weight: bold\">126566733879806345007262758929160877404</span>: <span style=\"color: #800080; text-decoration-color: #800080; font-weight: bold\">mpq</span><span style=\"font-weight: bold\">(</span><span style=\"color: #008080; text-decoration-color: #008080; font-weight: bold\">-27</span>,<span style=\"color: #008080; text-decoration-color: #008080; font-weight: bold\">4</span><span style=\"font-weight: bold\">)</span>,\n",
       "    <span style=\"color: #008080; text-decoration-color: #008080; font-weight: bold\">187796408876607823777095462536150071883</span>: <span style=\"color: #800080; text-decoration-color: #800080; font-weight: bold\">mpq</span><span style=\"font-weight: bold\">(</span><span style=\"color: #008080; text-decoration-color: #008080; font-weight: bold\">3</span>,<span style=\"color: #008080; text-decoration-color: #008080; font-weight: bold\">1</span><span style=\"font-weight: bold\">)</span>,\n",
       "    <span style=\"color: #008080; text-decoration-color: #008080; font-weight: bold\">307964237826510534580715546567473953988</span>: <span style=\"color: #800080; text-decoration-color: #800080; font-weight: bold\">mpq</span><span style=\"font-weight: bold\">(</span><span style=\"color: #008080; text-decoration-color: #008080; font-weight: bold\">3</span>,<span style=\"color: #008080; text-decoration-color: #008080; font-weight: bold\">2</span><span style=\"font-weight: bold\">)</span>,\n",
       "    <span style=\"color: #008080; text-decoration-color: #008080; font-weight: bold\">104568620648266557291130478952926438888</span>: <span style=\"color: #800080; text-decoration-color: #800080; font-weight: bold\">mpq</span><span style=\"font-weight: bold\">(</span><span style=\"color: #008080; text-decoration-color: #008080; font-weight: bold\">9</span>,<span style=\"color: #008080; text-decoration-color: #008080; font-weight: bold\">2</span><span style=\"font-weight: bold\">)</span>,\n",
       "    <span style=\"color: #008080; text-decoration-color: #008080; font-weight: bold\">130698121361272427350831300242843799656</span>: <span style=\"color: #800080; text-decoration-color: #800080; font-weight: bold\">mpq</span><span style=\"font-weight: bold\">(</span><span style=\"color: #008080; text-decoration-color: #008080; font-weight: bold\">5</span>,<span style=\"color: #008080; text-decoration-color: #008080; font-weight: bold\">4</span><span style=\"font-weight: bold\">)</span>,\n",
       "    <span style=\"color: #008080; text-decoration-color: #008080; font-weight: bold\">168903408828495428992596687292682726914</span>: <span style=\"color: #800080; text-decoration-color: #800080; font-weight: bold\">mpq</span><span style=\"font-weight: bold\">(</span><span style=\"color: #008080; text-decoration-color: #008080; font-weight: bold\">2</span>,<span style=\"color: #008080; text-decoration-color: #008080; font-weight: bold\">1</span><span style=\"font-weight: bold\">)</span>,\n",
       "    <span style=\"color: #008080; text-decoration-color: #008080; font-weight: bold\">223815617000840717351559801460551249083</span>: <span style=\"color: #800080; text-decoration-color: #800080; font-weight: bold\">mpq</span><span style=\"font-weight: bold\">(</span><span style=\"color: #008080; text-decoration-color: #008080; font-weight: bold\">1</span>,<span style=\"color: #008080; text-decoration-color: #008080; font-weight: bold\">2</span><span style=\"font-weight: bold\">)</span>,\n",
       "    <span style=\"color: #008080; text-decoration-color: #008080; font-weight: bold\">293772219755276500713190244351019427011</span>: <span style=\"color: #800080; text-decoration-color: #800080; font-weight: bold\">mpq</span><span style=\"font-weight: bold\">(</span><span style=\"color: #008080; text-decoration-color: #008080; font-weight: bold\">9</span>,<span style=\"color: #008080; text-decoration-color: #008080; font-weight: bold\">2</span><span style=\"font-weight: bold\">)</span>,\n",
       "    <span style=\"color: #008080; text-decoration-color: #008080; font-weight: bold\">225362980691488088278311700040940134807</span>: <span style=\"color: #800080; text-decoration-color: #800080; font-weight: bold\">mpq</span><span style=\"font-weight: bold\">(</span><span style=\"color: #008080; text-decoration-color: #008080; font-weight: bold\">7</span>,<span style=\"color: #008080; text-decoration-color: #008080; font-weight: bold\">4</span><span style=\"font-weight: bold\">)</span>,\n",
       "    <span style=\"color: #008080; text-decoration-color: #008080; font-weight: bold\">219835990489705635338700540817960664575</span>: <span style=\"color: #800080; text-decoration-color: #800080; font-weight: bold\">mpq</span><span style=\"font-weight: bold\">(</span><span style=\"color: #008080; text-decoration-color: #008080; font-weight: bold\">1</span>,<span style=\"color: #008080; text-decoration-color: #008080; font-weight: bold\">2</span><span style=\"font-weight: bold\">)</span>,\n",
       "    <span style=\"color: #008080; text-decoration-color: #008080; font-weight: bold\">263575285651566782557558127486509419551</span>: <span style=\"color: #800080; text-decoration-color: #800080; font-weight: bold\">mpq</span><span style=\"font-weight: bold\">(</span><span style=\"color: #008080; text-decoration-color: #008080; font-weight: bold\">-5</span>,<span style=\"color: #008080; text-decoration-color: #008080; font-weight: bold\">4</span><span style=\"font-weight: bold\">)</span>,\n",
       "    <span style=\"color: #008080; text-decoration-color: #008080; font-weight: bold\">319237159168907457379966915349929167706</span>: <span style=\"color: #800080; text-decoration-color: #800080; font-weight: bold\">mpq</span><span style=\"font-weight: bold\">(</span><span style=\"color: #008080; text-decoration-color: #008080; font-weight: bold\">-1</span>,<span style=\"color: #008080; text-decoration-color: #008080; font-weight: bold\">1</span><span style=\"font-weight: bold\">)</span>,\n",
       "    <span style=\"color: #008080; text-decoration-color: #008080; font-weight: bold\">104910323149882966727021637135447736987</span>: <span style=\"color: #800080; text-decoration-color: #800080; font-weight: bold\">mpq</span><span style=\"font-weight: bold\">(</span><span style=\"color: #008080; text-decoration-color: #008080; font-weight: bold\">-1</span>,<span style=\"color: #008080; text-decoration-color: #008080; font-weight: bold\">2</span><span style=\"font-weight: bold\">)</span>,\n",
       "    <span style=\"color: #008080; text-decoration-color: #008080; font-weight: bold\">319010079056079060980982168407474270157</span>: <span style=\"color: #800080; text-decoration-color: #800080; font-weight: bold\">mpq</span><span style=\"font-weight: bold\">(</span><span style=\"color: #008080; text-decoration-color: #008080; font-weight: bold\">-1</span>,<span style=\"color: #008080; text-decoration-color: #008080; font-weight: bold\">4</span><span style=\"font-weight: bold\">)</span>,\n",
       "    <span style=\"color: #008080; text-decoration-color: #008080; font-weight: bold\">111650816021472813109846799907404607326</span>: <span style=\"color: #800080; text-decoration-color: #800080; font-weight: bold\">mpq</span><span style=\"font-weight: bold\">(</span><span style=\"color: #008080; text-decoration-color: #008080; font-weight: bold\">-1</span>,<span style=\"color: #008080; text-decoration-color: #008080; font-weight: bold\">4</span><span style=\"font-weight: bold\">)</span>,\n",
       "    <span style=\"color: #008080; text-decoration-color: #008080; font-weight: bold\">17347575028682568824563806773706424345</span>: <span style=\"color: #800080; text-decoration-color: #800080; font-weight: bold\">mpq</span><span style=\"font-weight: bold\">(</span><span style=\"color: #008080; text-decoration-color: #008080; font-weight: bold\">-1</span>,<span style=\"color: #008080; text-decoration-color: #008080; font-weight: bold\">2</span><span style=\"font-weight: bold\">)</span>,\n",
       "    <span style=\"color: #008080; text-decoration-color: #008080; font-weight: bold\">338163571304105284126756706272513642721</span>: <span style=\"color: #800080; text-decoration-color: #800080; font-weight: bold\">mpq</span><span style=\"font-weight: bold\">(</span><span style=\"color: #008080; text-decoration-color: #008080; font-weight: bold\">1</span>,<span style=\"color: #008080; text-decoration-color: #008080; font-weight: bold\">4</span><span style=\"font-weight: bold\">)</span>\n",
       "<span style=\"font-weight: bold\">}</span>\n",
       "</pre>\n"
      ],
      "text/plain": [
       "\n",
       "\u001b[1m{\u001b[0m\n",
       "    \u001b[1;36m165850954815882573261101579101827098358\u001b[0m: \u001b[1;35mmpq\u001b[0m\u001b[1m(\u001b[0m\u001b[1;36m-3\u001b[0m,\u001b[1;36m1\u001b[0m\u001b[1m)\u001b[0m,\n",
       "    \u001b[1;36m78333310855796287558858939065325830954\u001b[0m: \u001b[1;35mmpq\u001b[0m\u001b[1m(\u001b[0m\u001b[1;36m35\u001b[0m,\u001b[1;36m2\u001b[0m\u001b[1m)\u001b[0m,\n",
       "    \u001b[1;36m303414898855562656201290561786245995556\u001b[0m: \u001b[1;35mmpq\u001b[0m\u001b[1m(\u001b[0m\u001b[1;36m10\u001b[0m,\u001b[1;36m1\u001b[0m\u001b[1m)\u001b[0m,\n",
       "    \u001b[1;36m110549758256875373219715569694639490195\u001b[0m: \u001b[1;35mmpq\u001b[0m\u001b[1m(\u001b[0m\u001b[1;36m-8\u001b[0m,\u001b[1;36m1\u001b[0m\u001b[1m)\u001b[0m,\n",
       "    \u001b[1;36m223136372572965624571741167172143352088\u001b[0m: \u001b[1;35mmpq\u001b[0m\u001b[1m(\u001b[0m\u001b[1;36m-3\u001b[0m,\u001b[1;36m2\u001b[0m\u001b[1m)\u001b[0m,\n",
       "    \u001b[1;36m47693011321269647785466125402148551179\u001b[0m: \u001b[1;35mmpq\u001b[0m\u001b[1m(\u001b[0m\u001b[1;36m-79\u001b[0m,\u001b[1;36m4\u001b[0m\u001b[1m)\u001b[0m,\n",
       "    \u001b[1;36m152037926432527496922685215149030498609\u001b[0m: \u001b[1;35mmpq\u001b[0m\u001b[1m(\u001b[0m\u001b[1;36m-9\u001b[0m,\u001b[1;36m2\u001b[0m\u001b[1m)\u001b[0m,\n",
       "    \u001b[1;36m126566733879806345007262758929160877404\u001b[0m: \u001b[1;35mmpq\u001b[0m\u001b[1m(\u001b[0m\u001b[1;36m-27\u001b[0m,\u001b[1;36m4\u001b[0m\u001b[1m)\u001b[0m,\n",
       "    \u001b[1;36m187796408876607823777095462536150071883\u001b[0m: \u001b[1;35mmpq\u001b[0m\u001b[1m(\u001b[0m\u001b[1;36m3\u001b[0m,\u001b[1;36m1\u001b[0m\u001b[1m)\u001b[0m,\n",
       "    \u001b[1;36m307964237826510534580715546567473953988\u001b[0m: \u001b[1;35mmpq\u001b[0m\u001b[1m(\u001b[0m\u001b[1;36m3\u001b[0m,\u001b[1;36m2\u001b[0m\u001b[1m)\u001b[0m,\n",
       "    \u001b[1;36m104568620648266557291130478952926438888\u001b[0m: \u001b[1;35mmpq\u001b[0m\u001b[1m(\u001b[0m\u001b[1;36m9\u001b[0m,\u001b[1;36m2\u001b[0m\u001b[1m)\u001b[0m,\n",
       "    \u001b[1;36m130698121361272427350831300242843799656\u001b[0m: \u001b[1;35mmpq\u001b[0m\u001b[1m(\u001b[0m\u001b[1;36m5\u001b[0m,\u001b[1;36m4\u001b[0m\u001b[1m)\u001b[0m,\n",
       "    \u001b[1;36m168903408828495428992596687292682726914\u001b[0m: \u001b[1;35mmpq\u001b[0m\u001b[1m(\u001b[0m\u001b[1;36m2\u001b[0m,\u001b[1;36m1\u001b[0m\u001b[1m)\u001b[0m,\n",
       "    \u001b[1;36m223815617000840717351559801460551249083\u001b[0m: \u001b[1;35mmpq\u001b[0m\u001b[1m(\u001b[0m\u001b[1;36m1\u001b[0m,\u001b[1;36m2\u001b[0m\u001b[1m)\u001b[0m,\n",
       "    \u001b[1;36m293772219755276500713190244351019427011\u001b[0m: \u001b[1;35mmpq\u001b[0m\u001b[1m(\u001b[0m\u001b[1;36m9\u001b[0m,\u001b[1;36m2\u001b[0m\u001b[1m)\u001b[0m,\n",
       "    \u001b[1;36m225362980691488088278311700040940134807\u001b[0m: \u001b[1;35mmpq\u001b[0m\u001b[1m(\u001b[0m\u001b[1;36m7\u001b[0m,\u001b[1;36m4\u001b[0m\u001b[1m)\u001b[0m,\n",
       "    \u001b[1;36m219835990489705635338700540817960664575\u001b[0m: \u001b[1;35mmpq\u001b[0m\u001b[1m(\u001b[0m\u001b[1;36m1\u001b[0m,\u001b[1;36m2\u001b[0m\u001b[1m)\u001b[0m,\n",
       "    \u001b[1;36m263575285651566782557558127486509419551\u001b[0m: \u001b[1;35mmpq\u001b[0m\u001b[1m(\u001b[0m\u001b[1;36m-5\u001b[0m,\u001b[1;36m4\u001b[0m\u001b[1m)\u001b[0m,\n",
       "    \u001b[1;36m319237159168907457379966915349929167706\u001b[0m: \u001b[1;35mmpq\u001b[0m\u001b[1m(\u001b[0m\u001b[1;36m-1\u001b[0m,\u001b[1;36m1\u001b[0m\u001b[1m)\u001b[0m,\n",
       "    \u001b[1;36m104910323149882966727021637135447736987\u001b[0m: \u001b[1;35mmpq\u001b[0m\u001b[1m(\u001b[0m\u001b[1;36m-1\u001b[0m,\u001b[1;36m2\u001b[0m\u001b[1m)\u001b[0m,\n",
       "    \u001b[1;36m319010079056079060980982168407474270157\u001b[0m: \u001b[1;35mmpq\u001b[0m\u001b[1m(\u001b[0m\u001b[1;36m-1\u001b[0m,\u001b[1;36m4\u001b[0m\u001b[1m)\u001b[0m,\n",
       "    \u001b[1;36m111650816021472813109846799907404607326\u001b[0m: \u001b[1;35mmpq\u001b[0m\u001b[1m(\u001b[0m\u001b[1;36m-1\u001b[0m,\u001b[1;36m4\u001b[0m\u001b[1m)\u001b[0m,\n",
       "    \u001b[1;36m17347575028682568824563806773706424345\u001b[0m: \u001b[1;35mmpq\u001b[0m\u001b[1m(\u001b[0m\u001b[1;36m-1\u001b[0m,\u001b[1;36m2\u001b[0m\u001b[1m)\u001b[0m,\n",
       "    \u001b[1;36m338163571304105284126756706272513642721\u001b[0m: \u001b[1;35mmpq\u001b[0m\u001b[1m(\u001b[0m\u001b[1;36m1\u001b[0m,\u001b[1;36m4\u001b[0m\u001b[1m)\u001b[0m\n",
       "\u001b[1m}\u001b[0m\n"
      ]
     },
     "metadata": {},
     "output_type": "display_data"
    }
   ],
   "source": [
    "from pact.hombase import hombase_coeffs\n",
    "\n",
    "hombase_coeffs(ex_pat, spasm_space)"
   ]
  },
  {
   "cell_type": "markdown",
   "id": "af56ff19",
   "metadata": {},
   "source": [
    "The standard pattern for computing all homomorphism bases of our patterns is the following.\n",
    "\n",
    "The iteration here is wrapped inside a `rich.Progress` track as computation can take a while for large (or many) patterns and a progress indicator is helpful.\n",
    "\n",
    "Homomorphism bases are stored in the `hombase` attribute of a `GraphWrapper`."
   ]
  },
  {
   "cell_type": "code",
   "execution_count": 7,
   "id": "05336354",
   "metadata": {},
   "outputs": [
    {
     "data": {
      "application/vnd.jupyter.widget-view+json": {
       "model_id": "9874ec544a46415d9c68ad17445d4060",
       "version_major": 2,
       "version_minor": 0
      },
      "text/plain": [
       "Output()"
      ]
     },
     "metadata": {},
     "output_type": "display_data"
    },
    {
     "data": {
      "text/html": [
       "<pre style=\"white-space:pre;overflow-x:auto;line-height:normal;font-family:Menlo,'DejaVu Sans Mono',consolas,'Courier New',monospace\"></pre>\n"
      ],
      "text/plain": []
     },
     "metadata": {},
     "output_type": "display_data"
    },
    {
     "data": {
      "text/html": [
       "<pre style=\"white-space:pre;overflow-x:auto;line-height:normal;font-family:Menlo,'DejaVu Sans Mono',consolas,'Courier New',monospace\">\n",
       "</pre>\n"
      ],
      "text/plain": [
       "\n"
      ]
     },
     "metadata": {},
     "output_type": "display_data"
    }
   ],
   "source": [
    "from pact.ui import default_progressbar\n",
    "\n",
    "with default_progressbar() as progress:\n",
    "    track = progress.track(patterns.values(), total=len(patterns))\n",
    "    for pattern in track:\n",
    "        pattern.hombase = hombase_coeffs(pattern, spasm_space)\n"
   ]
  },
  {
   "cell_type": "markdown",
   "id": "9b6ab694",
   "metadata": {},
   "source": [
    "## Precompute Decompositions for the Spasm Space\n",
    "\n",
    "As outlines above, we will count the subgraph occurrences of our patterns by counting the number of homomorphisms from graphs in the spasm space. \n",
    "\n",
    "To count the homomorphisms effectively we use dynamic programming on tree decompositions. This is again independent of the host graph and can be done in another pre-computation phase (note that there is no dependence on the homomorphism base computation above).\n",
    "\n",
    "There are some technical details involved in this process that will be documented separately in the future. For now, this standard pattern will suffice to compute decompositions. (The `times` parameter scales the number of attempts to find a good decomposition. Better decompositions will lead to faster homomorphism counting.)\n",
    "\n",
    "Decompositions are stored in the `td` attribute of a `GraphWrapper`."
   ]
  },
  {
   "cell_type": "code",
   "execution_count": 8,
   "id": "db358cda",
   "metadata": {},
   "outputs": [
    {
     "data": {
      "application/vnd.jupyter.widget-view+json": {
       "model_id": "7b09aa6949e04088bc32d49709830a4c",
       "version_major": 2,
       "version_minor": 0
      },
      "text/plain": [
       "Output()"
      ]
     },
     "metadata": {},
     "output_type": "display_data"
    },
    {
     "data": {
      "text/html": [
       "<pre style=\"white-space:pre;overflow-x:auto;line-height:normal;font-family:Menlo,'DejaVu Sans Mono',consolas,'Courier New',monospace\"></pre>\n"
      ],
      "text/plain": []
     },
     "metadata": {},
     "output_type": "display_data"
    },
    {
     "data": {
      "text/html": [
       "<pre style=\"white-space:pre;overflow-x:auto;line-height:normal;font-family:Menlo,'DejaVu Sans Mono',consolas,'Courier New',monospace\">\n",
       "</pre>\n"
      ],
      "text/plain": [
       "\n"
      ]
     },
     "metadata": {},
     "output_type": "display_data"
    }
   ],
   "source": [
    "from pact.balgowrapper import balgo_multitry_for_cheapest_decomp\n",
    "\n",
    "with default_progressbar() as progress:\n",
    "    track = progress.track(spasm_space.graphs_iter(), len(spasm_space))\n",
    "    for G in track:\n",
    "        decomp, badness = balgo_multitry_for_cheapest_decomp(G, times=10)\n",
    "        G.td = decomp\n",
    "        G.td_badness = badness"
   ]
  },
  {
   "cell_type": "markdown",
   "id": "50ce4138",
   "metadata": {},
   "source": [
    "Decompositions support some basic pretty printing for inspection."
   ]
  },
  {
   "cell_type": "code",
   "execution_count": 9,
   "id": "87f0fb93",
   "metadata": {},
   "outputs": [
    {
     "data": {
      "text/html": [
       "<pre style=\"white-space:pre;overflow-x:auto;line-height:normal;font-family:Menlo,'DejaVu Sans Mono',consolas,'Courier New',monospace\">\n",
       "B: <span style=\"font-weight: bold\">{</span><span style=\"color: #008080; text-decoration-color: #008080; font-weight: bold\">1</span>, <span style=\"color: #008080; text-decoration-color: #008080; font-weight: bold\">3</span>, <span style=\"color: #008080; text-decoration-color: #008080; font-weight: bold\">4</span><span style=\"font-weight: bold\">}</span>    λ: <span style=\"font-weight: bold\">[</span><span style=\"color: #008000; text-decoration-color: #008000\">'E_5'</span>, <span style=\"color: #008000; text-decoration-color: #008000\">'E_3'</span><span style=\"font-weight: bold\">]</span>\n",
       "  B: <span style=\"font-weight: bold\">{</span><span style=\"color: #008080; text-decoration-color: #008080; font-weight: bold\">2</span>, <span style=\"color: #008080; text-decoration-color: #008080; font-weight: bold\">4</span><span style=\"font-weight: bold\">}</span>     λ: <span style=\"font-weight: bold\">[</span><span style=\"color: #008000; text-decoration-color: #008000\">'E_4'</span><span style=\"font-weight: bold\">]</span>\n",
       "  B: <span style=\"font-weight: bold\">{</span><span style=\"color: #008080; text-decoration-color: #008080; font-weight: bold\">0</span>, <span style=\"color: #008080; text-decoration-color: #008080; font-weight: bold\">3</span>, <span style=\"color: #008080; text-decoration-color: #008080; font-weight: bold\">4</span><span style=\"font-weight: bold\">}</span>  λ: <span style=\"font-weight: bold\">[</span><span style=\"color: #008000; text-decoration-color: #008000\">'E_1'</span>, <span style=\"color: #008000; text-decoration-color: #008000\">'E_0'</span><span style=\"font-weight: bold\">]</span>\n",
       "  B: <span style=\"font-weight: bold\">{</span><span style=\"color: #008080; text-decoration-color: #008080; font-weight: bold\">1</span>, <span style=\"color: #008080; text-decoration-color: #008080; font-weight: bold\">3</span><span style=\"font-weight: bold\">}</span>     λ: <span style=\"font-weight: bold\">[</span><span style=\"color: #008000; text-decoration-color: #008000\">'E_2'</span><span style=\"font-weight: bold\">]</span>\n",
       "</pre>\n"
      ],
      "text/plain": [
       "\n",
       "B: \u001b[1m{\u001b[0m\u001b[1;36m1\u001b[0m, \u001b[1;36m3\u001b[0m, \u001b[1;36m4\u001b[0m\u001b[1m}\u001b[0m    λ: \u001b[1m[\u001b[0m\u001b[32m'E_5'\u001b[0m, \u001b[32m'E_3'\u001b[0m\u001b[1m]\u001b[0m\n",
       "  B: \u001b[1m{\u001b[0m\u001b[1;36m2\u001b[0m, \u001b[1;36m4\u001b[0m\u001b[1m}\u001b[0m     λ: \u001b[1m[\u001b[0m\u001b[32m'E_4'\u001b[0m\u001b[1m]\u001b[0m\n",
       "  B: \u001b[1m{\u001b[0m\u001b[1;36m0\u001b[0m, \u001b[1;36m3\u001b[0m, \u001b[1;36m4\u001b[0m\u001b[1m}\u001b[0m  λ: \u001b[1m[\u001b[0m\u001b[32m'E_1'\u001b[0m, \u001b[32m'E_0'\u001b[0m\u001b[1m]\u001b[0m\n",
       "  B: \u001b[1m{\u001b[0m\u001b[1;36m1\u001b[0m, \u001b[1;36m3\u001b[0m\u001b[1m}\u001b[0m     λ: \u001b[1m[\u001b[0m\u001b[32m'E_2'\u001b[0m\u001b[1m]\u001b[0m\n"
      ]
     },
     "metadata": {},
     "output_type": "display_data"
    }
   ],
   "source": [
    "ex_graph.td"
   ]
  },
  {
   "cell_type": "markdown",
   "id": "035be344",
   "metadata": {},
   "source": [
    "## From Decompositions to Homomorphism Counting Plans\n",
    "\n",
    "In a final preperatory phase we translate decompositions into execution plans. These plans abstractly describe the steps that should be taken to compute homomorphism count. \n",
    "\n",
    "Plans are expected to be stored in the `plan` attribute of `GraphWrapper` objects."
   ]
  },
  {
   "cell_type": "code",
   "execution_count": 10,
   "id": "bbd067f7",
   "metadata": {},
   "outputs": [],
   "source": [
    "from pact.planner import node_to_ops\n",
    "\n",
    "for G in spasm_space.graphs_iter():\n",
    "    G.plan = node_to_ops(G.td)"
   ]
  },
  {
   "cell_type": "markdown",
   "id": "9513f2fc",
   "metadata": {},
   "source": [
    "Plans support human readable ouput. Technically, a plan is simply a `deque` of `code.Operation` objects. The plan is to be read in sequence but ultimately it is up to the execution engine how to execute it. A more detailed explanation of the individual operations will follow."
   ]
  },
  {
   "cell_type": "code",
   "execution_count": 11,
   "id": "eacfa951",
   "metadata": {},
   "outputs": [
    {
     "data": {
      "text/html": [
       "<pre style=\"white-space:pre;overflow-x:auto;line-height:normal;font-family:Menlo,'DejaVu Sans Mono',consolas,'Courier New',monospace\">\n",
       "<span style=\"color: #800080; text-decoration-color: #800080; font-weight: bold\">deque</span><span style=\"font-weight: bold\">([</span>\n",
       "    ⍴: _edge_base -&gt; <span style=\"color: #800080; text-decoration-color: #800080; font-weight: bold\">E_5</span><span style=\"font-weight: bold\">(</span><span style=\"color: #008080; text-decoration-color: #008080; font-weight: bold\">3</span>, <span style=\"color: #008080; text-decoration-color: #008080; font-weight: bold\">4</span><span style=\"font-weight: bold\">)</span>,\n",
       "    ⍴: _edge_base -&gt; <span style=\"color: #800080; text-decoration-color: #800080; font-weight: bold\">E_3</span><span style=\"font-weight: bold\">(</span><span style=\"color: #008080; text-decoration-color: #008080; font-weight: bold\">1</span>, <span style=\"color: #008080; text-decoration-color: #008080; font-weight: bold\">4</span><span style=\"font-weight: bold\">)</span>,\n",
       "    node$<span style=\"color: #008080; text-decoration-color: #008080; font-weight: bold\">0</span> = E_5 ⨝ E_3 <span style=\"font-weight: bold\">(</span>on <span style=\"font-weight: bold\">{</span><span style=\"color: #008080; text-decoration-color: #008080; font-weight: bold\">4</span><span style=\"font-weight: bold\">})</span>,\n",
       "    node$<span style=\"color: #008080; text-decoration-color: #008080; font-weight: bold\">0</span> = project node$<span style=\"color: #008080; text-decoration-color: #008080; font-weight: bold\">0</span> to <span style=\"font-weight: bold\">{</span><span style=\"color: #008080; text-decoration-color: #008080; font-weight: bold\">1</span>, <span style=\"color: #008080; text-decoration-color: #008080; font-weight: bold\">3</span>, <span style=\"color: #008080; text-decoration-color: #008080; font-weight: bold\">4</span><span style=\"font-weight: bold\">}</span>,\n",
       "    ⍴: _edge_base -&gt; node$<span style=\"color: #800080; text-decoration-color: #800080; font-weight: bold\">1</span><span style=\"font-weight: bold\">(</span><span style=\"color: #008080; text-decoration-color: #008080; font-weight: bold\">2</span>, <span style=\"color: #008080; text-decoration-color: #008080; font-weight: bold\">4</span><span style=\"font-weight: bold\">)</span>,\n",
       "    ⍴: _edge_base -&gt; <span style=\"color: #800080; text-decoration-color: #800080; font-weight: bold\">E_1</span><span style=\"font-weight: bold\">(</span><span style=\"color: #008080; text-decoration-color: #008080; font-weight: bold\">0</span>, <span style=\"color: #008080; text-decoration-color: #008080; font-weight: bold\">4</span><span style=\"font-weight: bold\">)</span>,\n",
       "    ⍴: _edge_base -&gt; <span style=\"color: #800080; text-decoration-color: #800080; font-weight: bold\">E_0</span><span style=\"font-weight: bold\">(</span><span style=\"color: #008080; text-decoration-color: #008080; font-weight: bold\">0</span>, <span style=\"color: #008080; text-decoration-color: #008080; font-weight: bold\">3</span><span style=\"font-weight: bold\">)</span>,\n",
       "    node$<span style=\"color: #008080; text-decoration-color: #008080; font-weight: bold\">2</span> = E_1 ⨝ E_0 <span style=\"font-weight: bold\">(</span>on <span style=\"font-weight: bold\">{</span><span style=\"color: #008080; text-decoration-color: #008080; font-weight: bold\">0</span><span style=\"font-weight: bold\">})</span>,\n",
       "    node$<span style=\"color: #008080; text-decoration-color: #008080; font-weight: bold\">2</span> = project node$<span style=\"color: #008080; text-decoration-color: #008080; font-weight: bold\">2</span> to <span style=\"font-weight: bold\">{</span><span style=\"color: #008080; text-decoration-color: #008080; font-weight: bold\">0</span>, <span style=\"color: #008080; text-decoration-color: #008080; font-weight: bold\">3</span>, <span style=\"color: #008080; text-decoration-color: #008080; font-weight: bold\">4</span><span style=\"font-weight: bold\">}</span>,\n",
       "    ⍴: _edge_base -&gt; node$<span style=\"color: #800080; text-decoration-color: #800080; font-weight: bold\">3</span><span style=\"font-weight: bold\">(</span><span style=\"color: #008080; text-decoration-color: #008080; font-weight: bold\">1</span>, <span style=\"color: #008080; text-decoration-color: #008080; font-weight: bold\">3</span><span style=\"font-weight: bold\">)</span>,\n",
       "    node$<span style=\"color: #008080; text-decoration-color: #008080; font-weight: bold\">0</span> = node$<span style=\"color: #008080; text-decoration-color: #008080; font-weight: bold\">0</span> ⋉ node$<span style=\"color: #008080; text-decoration-color: #008080; font-weight: bold\">3</span> <span style=\"font-weight: bold\">(</span>on <span style=\"font-weight: bold\">{</span><span style=\"color: #008080; text-decoration-color: #008080; font-weight: bold\">1</span>, <span style=\"color: #008080; text-decoration-color: #008080; font-weight: bold\">3</span><span style=\"font-weight: bold\">})</span>,\n",
       "    node$<span style=\"color: #008080; text-decoration-color: #008080; font-weight: bold\">1</span> = Count extensions of <span style=\"font-weight: bold\">{</span><span style=\"color: #008080; text-decoration-color: #008080; font-weight: bold\">4</span><span style=\"font-weight: bold\">}</span> in node$<span style=\"color: #008080; text-decoration-color: #008080; font-weight: bold\">1</span>,\n",
       "    node$<span style=\"color: #008080; text-decoration-color: #008080; font-weight: bold\">0</span> = Merge count from node$<span style=\"color: #800080; text-decoration-color: #800080; font-weight: bold\">1</span><span style=\"font-weight: bold\">({</span><span style=\"color: #008080; text-decoration-color: #008080; font-weight: bold\">4</span><span style=\"font-weight: bold\">})</span> into node$<span style=\"color: #008080; text-decoration-color: #008080; font-weight: bold\">0</span>,\n",
       "    node$<span style=\"color: #008080; text-decoration-color: #008080; font-weight: bold\">2</span> = Count extensions of <span style=\"font-weight: bold\">{</span><span style=\"color: #008080; text-decoration-color: #008080; font-weight: bold\">3</span>, <span style=\"color: #008080; text-decoration-color: #008080; font-weight: bold\">4</span><span style=\"font-weight: bold\">}</span> in node$<span style=\"color: #008080; text-decoration-color: #008080; font-weight: bold\">2</span>,\n",
       "    node$<span style=\"color: #008080; text-decoration-color: #008080; font-weight: bold\">0</span> = Merge count from node$<span style=\"color: #800080; text-decoration-color: #800080; font-weight: bold\">2</span><span style=\"font-weight: bold\">({</span><span style=\"color: #008080; text-decoration-color: #008080; font-weight: bold\">3</span>, <span style=\"color: #008080; text-decoration-color: #008080; font-weight: bold\">4</span><span style=\"font-weight: bold\">})</span> into node$<span style=\"color: #008080; text-decoration-color: #008080; font-weight: bold\">0</span>\n",
       "<span style=\"font-weight: bold\">])</span>\n",
       "</pre>\n"
      ],
      "text/plain": [
       "\n",
       "\u001b[1;35mdeque\u001b[0m\u001b[1m(\u001b[0m\u001b[1m[\u001b[0m\n",
       "    ⍴: _edge_base -> \u001b[1;35mE_5\u001b[0m\u001b[1m(\u001b[0m\u001b[1;36m3\u001b[0m, \u001b[1;36m4\u001b[0m\u001b[1m)\u001b[0m,\n",
       "    ⍴: _edge_base -> \u001b[1;35mE_3\u001b[0m\u001b[1m(\u001b[0m\u001b[1;36m1\u001b[0m, \u001b[1;36m4\u001b[0m\u001b[1m)\u001b[0m,\n",
       "    node$\u001b[1;36m0\u001b[0m = E_5 ⨝ E_3 \u001b[1m(\u001b[0mon \u001b[1m{\u001b[0m\u001b[1;36m4\u001b[0m\u001b[1m}\u001b[0m\u001b[1m)\u001b[0m,\n",
       "    node$\u001b[1;36m0\u001b[0m = project node$\u001b[1;36m0\u001b[0m to \u001b[1m{\u001b[0m\u001b[1;36m1\u001b[0m, \u001b[1;36m3\u001b[0m, \u001b[1;36m4\u001b[0m\u001b[1m}\u001b[0m,\n",
       "    ⍴: _edge_base -> node$\u001b[1;35m1\u001b[0m\u001b[1m(\u001b[0m\u001b[1;36m2\u001b[0m, \u001b[1;36m4\u001b[0m\u001b[1m)\u001b[0m,\n",
       "    ⍴: _edge_base -> \u001b[1;35mE_1\u001b[0m\u001b[1m(\u001b[0m\u001b[1;36m0\u001b[0m, \u001b[1;36m4\u001b[0m\u001b[1m)\u001b[0m,\n",
       "    ⍴: _edge_base -> \u001b[1;35mE_0\u001b[0m\u001b[1m(\u001b[0m\u001b[1;36m0\u001b[0m, \u001b[1;36m3\u001b[0m\u001b[1m)\u001b[0m,\n",
       "    node$\u001b[1;36m2\u001b[0m = E_1 ⨝ E_0 \u001b[1m(\u001b[0mon \u001b[1m{\u001b[0m\u001b[1;36m0\u001b[0m\u001b[1m}\u001b[0m\u001b[1m)\u001b[0m,\n",
       "    node$\u001b[1;36m2\u001b[0m = project node$\u001b[1;36m2\u001b[0m to \u001b[1m{\u001b[0m\u001b[1;36m0\u001b[0m, \u001b[1;36m3\u001b[0m, \u001b[1;36m4\u001b[0m\u001b[1m}\u001b[0m,\n",
       "    ⍴: _edge_base -> node$\u001b[1;35m3\u001b[0m\u001b[1m(\u001b[0m\u001b[1;36m1\u001b[0m, \u001b[1;36m3\u001b[0m\u001b[1m)\u001b[0m,\n",
       "    node$\u001b[1;36m0\u001b[0m = node$\u001b[1;36m0\u001b[0m ⋉ node$\u001b[1;36m3\u001b[0m \u001b[1m(\u001b[0mon \u001b[1m{\u001b[0m\u001b[1;36m1\u001b[0m, \u001b[1;36m3\u001b[0m\u001b[1m}\u001b[0m\u001b[1m)\u001b[0m,\n",
       "    node$\u001b[1;36m1\u001b[0m = Count extensions of \u001b[1m{\u001b[0m\u001b[1;36m4\u001b[0m\u001b[1m}\u001b[0m in node$\u001b[1;36m1\u001b[0m,\n",
       "    node$\u001b[1;36m0\u001b[0m = Merge count from node$\u001b[1;35m1\u001b[0m\u001b[1m(\u001b[0m\u001b[1m{\u001b[0m\u001b[1;36m4\u001b[0m\u001b[1m}\u001b[0m\u001b[1m)\u001b[0m into node$\u001b[1;36m0\u001b[0m,\n",
       "    node$\u001b[1;36m2\u001b[0m = Count extensions of \u001b[1m{\u001b[0m\u001b[1;36m3\u001b[0m, \u001b[1;36m4\u001b[0m\u001b[1m}\u001b[0m in node$\u001b[1;36m2\u001b[0m,\n",
       "    node$\u001b[1;36m0\u001b[0m = Merge count from node$\u001b[1;35m2\u001b[0m\u001b[1m(\u001b[0m\u001b[1m{\u001b[0m\u001b[1;36m3\u001b[0m, \u001b[1;36m4\u001b[0m\u001b[1m}\u001b[0m\u001b[1m)\u001b[0m into node$\u001b[1;36m0\u001b[0m\n",
       "\u001b[1m]\u001b[0m\u001b[1m)\u001b[0m\n"
      ]
     },
     "metadata": {},
     "output_type": "display_data"
    }
   ],
   "source": [
    "ex_graph.plan"
   ]
  },
  {
   "cell_type": "markdown",
   "id": "ad76458d",
   "metadata": {},
   "source": [
    "# Part 2: Execution on Host Graphs\n",
    "\n",
    "With everything now in place, all that is left is to actually compute the $\\#Hom(F \\rightarrow H)$ terms of our original formula for $\\#Sub(P \\rightarrow H)$ for specific host graphs $H$."
   ]
  },
  {
   "cell_type": "markdown",
   "id": "7a8df0f0",
   "metadata": {},
   "source": [
    "## Loading the Host Graph\n",
    "\n",
    "The required format for the host graph depends on which execution engine is used. In this tutorial we will use the *naive pandas execution engine*, which takes as input a `pandas.DataFrame` that represents the edge relation of our host graph. The dataframe must have attributes `s` and `t`, source and target, respectively. \n",
    "\n",
    "Note that an edge $\\{a,b\\}$ in an undirected graph must have two entries in the relation, one $(a,b)$ and one $(b,a)$. "
   ]
  },
  {
   "cell_type": "code",
   "execution_count": 12,
   "id": "df694045",
   "metadata": {},
   "outputs": [],
   "source": [
    "import pandas as pd\n",
    "\n",
    "host_nx = nx.read_gml('data/tutorial/schi_pombe.gml', label=None)\n",
    "\n",
    "# IMPORTANT: for undirected graphs we need both directions in our edge relation\n",
    "edges = [{'s': a, 't': b} for a,b in host_nx.edges()] + [{'s': b, 't': a} for a,b in host_nx.edges()]\n",
    "host_df = pd.DataFrame(edges).drop_duplicates()"
   ]
  },
  {
   "cell_type": "markdown",
   "id": "d8c555dd",
   "metadata": {},
   "source": [
    "## Executing Counting Plans\n",
    "\n",
    "The plan of a graph G form a list of instructions which can be executed to count the number of homomorphisms from G into the host graph. In particular, for a `GraphWrapper` object with a plan, we can execute the plan on a given host using different execution backends.\n",
    "\n",
    "At the moment only one such backend exists: the naive pandas backend executes the instructions directly as given using pandas for the heavy lifting. The homomorphism count can be computed via this backend with the `naive_pandas_homcount(G, H)` function, which directly returns $\\#Hom(G \\rightarrow H)$. Note that as described above $H$ is passed as an edge relation in a `pandas.DataFrame`."
   ]
  },
  {
   "cell_type": "code",
   "execution_count": 13,
   "id": "95b2aa56",
   "metadata": {},
   "outputs": [
    {
     "data": {
      "text/html": [
       "<pre style=\"white-space:pre;overflow-x:auto;line-height:normal;font-family:Menlo,'DejaVu Sans Mono',consolas,'Courier New',monospace\"><span style=\"color: #008080; text-decoration-color: #008080; font-weight: bold\">454750</span>\n",
       "</pre>\n"
      ],
      "text/plain": [
       "\u001b[1;36m454750\u001b[0m\n"
      ]
     },
     "metadata": {},
     "output_type": "display_data"
    }
   ],
   "source": [
    "from pact.naive_exec import naive_pandas_homcount\n",
    "\n",
    "naive_pandas_homcount(ex_graph, host_df)"
   ]
  },
  {
   "cell_type": "markdown",
   "id": "08dcf356",
   "metadata": {},
   "source": [
    "## Counting a Pattern\n",
    "\n",
    "We finally arrive at counting the number of times a pattern occurs as a subgraph of the host. Let us recall our original formula for computing the subgraph count.\n",
    "$$\\#Sub(P \\rightarrow H) = \\sum_{F \\in Spasm(P)} \\mu(F,P) \\cdot \\#Hom(F \\rightarrow H)$$\n",
    "In the previous steps we have computed $Spasm(P)$ as well as all $\\mu$ coefficiens, as well as tree decomposition based execution plans for counting $\\#Hom(F \\rightarrow H)$ for all graphs that occur in the spasms of our patterns.\n",
    "\n",
    "What is left is to apply the plans to compute the values of $\\#Hom(F \\rightarrow H)$ for concrete host graphs $H$.\n",
    "The code below demonstrates how to gather the (non-zero) terms of the above sum for a pattern, and consequently compute the full subgraph count, for our example pattern `ex_pat`. \n",
    "\n",
    "Note that because our coefficients use the `gmpy2.mpq` type for precision, this produces `mpq` values which are dispayed as (numerator, denominator) pairs."
   ]
  },
  {
   "cell_type": "code",
   "execution_count": 14,
   "id": "f5312a41",
   "metadata": {},
   "outputs": [
    {
     "name": "stdout",
     "output_type": "stream",
     "text": [
      "#Sub(P -> H): 62638680\n"
     ]
    },
    {
     "data": {
      "text/html": [
       "<pre style=\"white-space:pre;overflow-x:auto;line-height:normal;font-family:Menlo,'DejaVu Sans Mono',consolas,'Courier New',monospace\">\n",
       "<span style=\"font-weight: bold\">{</span>\n",
       "    <span style=\"color: #008080; text-decoration-color: #008080; font-weight: bold\">165850954815882573261101579101827098358</span>: <span style=\"color: #800080; text-decoration-color: #800080; font-weight: bold\">mpq</span><span style=\"font-weight: bold\">(</span><span style=\"color: #008080; text-decoration-color: #008080; font-weight: bold\">-9246</span>,<span style=\"color: #008080; text-decoration-color: #008080; font-weight: bold\">1</span><span style=\"font-weight: bold\">)</span>,\n",
       "    <span style=\"color: #008080; text-decoration-color: #008080; font-weight: bold\">78333310855796287558858939065325830954</span>: <span style=\"color: #800080; text-decoration-color: #800080; font-weight: bold\">mpq</span><span style=\"font-weight: bold\">(</span><span style=\"color: #008080; text-decoration-color: #008080; font-weight: bold\">73815</span>,<span style=\"color: #008080; text-decoration-color: #008080; font-weight: bold\">1</span><span style=\"font-weight: bold\">)</span>,\n",
       "    <span style=\"color: #008080; text-decoration-color: #008080; font-weight: bold\">303414898855562656201290561786245995556</span>: <span style=\"color: #800080; text-decoration-color: #800080; font-weight: bold\">mpq</span><span style=\"font-weight: bold\">(</span><span style=\"color: #008080; text-decoration-color: #008080; font-weight: bold\">238400</span>,<span style=\"color: #008080; text-decoration-color: #008080; font-weight: bold\">1</span><span style=\"font-weight: bold\">)</span>,\n",
       "    <span style=\"color: #008080; text-decoration-color: #008080; font-weight: bold\">110549758256875373219715569694639490195</span>: <span style=\"color: #800080; text-decoration-color: #800080; font-weight: bold\">mpq</span><span style=\"font-weight: bold\">(</span><span style=\"color: #008080; text-decoration-color: #008080; font-weight: bold\">-175888</span>,<span style=\"color: #008080; text-decoration-color: #008080; font-weight: bold\">1</span><span style=\"font-weight: bold\">)</span>,\n",
       "    <span style=\"color: #008080; text-decoration-color: #008080; font-weight: bold\">223136372572965624571741167172143352088</span>: <span style=\"color: #800080; text-decoration-color: #800080; font-weight: bold\">mpq</span><span style=\"font-weight: bold\">(</span><span style=\"color: #008080; text-decoration-color: #008080; font-weight: bold\">-109845</span>,<span style=\"color: #008080; text-decoration-color: #008080; font-weight: bold\">1</span><span style=\"font-weight: bold\">)</span>,\n",
       "    <span style=\"color: #008080; text-decoration-color: #008080; font-weight: bold\">47693011321269647785466125402148551179</span>: <span style=\"color: #800080; text-decoration-color: #800080; font-weight: bold\">mpq</span><span style=\"font-weight: bold\">(</span><span style=\"color: #008080; text-decoration-color: #008080; font-weight: bold\">-1094229</span>,<span style=\"color: #008080; text-decoration-color: #008080; font-weight: bold\">1</span><span style=\"font-weight: bold\">)</span>,\n",
       "    <span style=\"color: #008080; text-decoration-color: #008080; font-weight: bold\">152037926432527496922685215149030498609</span>: <span style=\"color: #800080; text-decoration-color: #800080; font-weight: bold\">mpq</span><span style=\"font-weight: bold\">(</span><span style=\"color: #008080; text-decoration-color: #008080; font-weight: bold\">-1738197</span>,<span style=\"color: #008080; text-decoration-color: #008080; font-weight: bold\">1</span><span style=\"font-weight: bold\">)</span>,\n",
       "    <span style=\"color: #008080; text-decoration-color: #008080; font-weight: bold\">126566733879806345007262758929160877404</span>: <span style=\"color: #800080; text-decoration-color: #800080; font-weight: bold\">mpq</span><span style=\"font-weight: bold\">(</span><span style=\"color: #008080; text-decoration-color: #008080; font-weight: bold\">-2348271</span>,<span style=\"color: #008080; text-decoration-color: #008080; font-weight: bold\">2</span><span style=\"font-weight: bold\">)</span>,\n",
       "    <span style=\"color: #008080; text-decoration-color: #008080; font-weight: bold\">187796408876607823777095462536150071883</span>: <span style=\"color: #800080; text-decoration-color: #800080; font-weight: bold\">mpq</span><span style=\"font-weight: bold\">(</span><span style=\"color: #008080; text-decoration-color: #008080; font-weight: bold\">1534746</span>,<span style=\"color: #008080; text-decoration-color: #008080; font-weight: bold\">1</span><span style=\"font-weight: bold\">)</span>,\n",
       "    <span style=\"color: #008080; text-decoration-color: #008080; font-weight: bold\">307964237826510534580715546567473953988</span>: <span style=\"color: #800080; text-decoration-color: #800080; font-weight: bold\">mpq</span><span style=\"font-weight: bold\">(</span><span style=\"color: #008080; text-decoration-color: #008080; font-weight: bold\">2688111</span>,<span style=\"color: #008080; text-decoration-color: #008080; font-weight: bold\">1</span><span style=\"font-weight: bold\">)</span>,\n",
       "    <span style=\"color: #008080; text-decoration-color: #008080; font-weight: bold\">104568620648266557291130478952926438888</span>: <span style=\"color: #800080; text-decoration-color: #800080; font-weight: bold\">mpq</span><span style=\"font-weight: bold\">(</span><span style=\"color: #008080; text-decoration-color: #008080; font-weight: bold\">3754314</span>,<span style=\"color: #008080; text-decoration-color: #008080; font-weight: bold\">1</span><span style=\"font-weight: bold\">)</span>,\n",
       "    <span style=\"color: #008080; text-decoration-color: #008080; font-weight: bold\">130698121361272427350831300242843799656</span>: <span style=\"color: #800080; text-decoration-color: #800080; font-weight: bold\">mpq</span><span style=\"font-weight: bold\">(</span><span style=\"color: #008080; text-decoration-color: #008080; font-weight: bold\">2565735</span>,<span style=\"color: #008080; text-decoration-color: #008080; font-weight: bold\">2</span><span style=\"font-weight: bold\">)</span>,\n",
       "    <span style=\"color: #008080; text-decoration-color: #008080; font-weight: bold\">168903408828495428992596687292682726914</span>: <span style=\"color: #800080; text-decoration-color: #800080; font-weight: bold\">mpq</span><span style=\"font-weight: bold\">(</span><span style=\"color: #008080; text-decoration-color: #008080; font-weight: bold\">909500</span>,<span style=\"color: #008080; text-decoration-color: #008080; font-weight: bold\">1</span><span style=\"font-weight: bold\">)</span>,\n",
       "    <span style=\"color: #008080; text-decoration-color: #008080; font-weight: bold\">223815617000840717351559801460551249083</span>: <span style=\"color: #800080; text-decoration-color: #800080; font-weight: bold\">mpq</span><span style=\"font-weight: bold\">(</span><span style=\"color: #008080; text-decoration-color: #008080; font-weight: bold\">111938</span>,<span style=\"color: #008080; text-decoration-color: #008080; font-weight: bold\">1</span><span style=\"font-weight: bold\">)</span>,\n",
       "    <span style=\"color: #008080; text-decoration-color: #008080; font-weight: bold\">293772219755276500713190244351019427011</span>: <span style=\"color: #800080; text-decoration-color: #800080; font-weight: bold\">mpq</span><span style=\"font-weight: bold\">(</span><span style=\"color: #008080; text-decoration-color: #008080; font-weight: bold\">12445155</span>,<span style=\"color: #008080; text-decoration-color: #008080; font-weight: bold\">1</span><span style=\"font-weight: bold\">)</span>,\n",
       "    <span style=\"color: #008080; text-decoration-color: #008080; font-weight: bold\">225362980691488088278311700040940134807</span>: <span style=\"color: #800080; text-decoration-color: #800080; font-weight: bold\">mpq</span><span style=\"font-weight: bold\">(</span><span style=\"color: #008080; text-decoration-color: #008080; font-weight: bold\">2177574</span>,<span style=\"color: #008080; text-decoration-color: #008080; font-weight: bold\">1</span><span style=\"font-weight: bold\">)</span>,\n",
       "    <span style=\"color: #008080; text-decoration-color: #008080; font-weight: bold\">219835990489705635338700540817960664575</span>: <span style=\"color: #800080; text-decoration-color: #800080; font-weight: bold\">mpq</span><span style=\"font-weight: bold\">(</span><span style=\"color: #008080; text-decoration-color: #008080; font-weight: bold\">4875256</span>,<span style=\"color: #008080; text-decoration-color: #008080; font-weight: bold\">1</span><span style=\"font-weight: bold\">)</span>,\n",
       "    <span style=\"color: #008080; text-decoration-color: #008080; font-weight: bold\">263575285651566782557558127486509419551</span>: <span style=\"color: #800080; text-decoration-color: #800080; font-weight: bold\">mpq</span><span style=\"font-weight: bold\">(</span><span style=\"color: #008080; text-decoration-color: #008080; font-weight: bold\">-60067845</span>,<span style=\"color: #008080; text-decoration-color: #008080; font-weight: bold\">2</span><span style=\"font-weight: bold\">)</span>,\n",
       "    <span style=\"color: #008080; text-decoration-color: #008080; font-weight: bold\">319237159168907457379966915349929167706</span>: <span style=\"color: #800080; text-decoration-color: #800080; font-weight: bold\">mpq</span><span style=\"font-weight: bold\">(</span><span style=\"color: #008080; text-decoration-color: #008080; font-weight: bold\">-10527076</span>,<span style=\"color: #008080; text-decoration-color: #008080; font-weight: bold\">1</span><span style=\"font-weight: bold\">)</span>,\n",
       "    <span style=\"color: #008080; text-decoration-color: #008080; font-weight: bold\">104910323149882966727021637135447736987</span>: <span style=\"color: #800080; text-decoration-color: #800080; font-weight: bold\">mpq</span><span style=\"font-weight: bold\">(</span><span style=\"color: #008080; text-decoration-color: #008080; font-weight: bold\">-10360537</span>,<span style=\"color: #008080; text-decoration-color: #008080; font-weight: bold\">1</span><span style=\"font-weight: bold\">)</span>,\n",
       "    <span style=\"color: #008080; text-decoration-color: #008080; font-weight: bold\">319010079056079060980982168407474270157</span>: <span style=\"color: #800080; text-decoration-color: #800080; font-weight: bold\">mpq</span><span style=\"font-weight: bold\">(</span><span style=\"color: #008080; text-decoration-color: #008080; font-weight: bold\">-12737789</span>,<span style=\"color: #008080; text-decoration-color: #008080; font-weight: bold\">2</span><span style=\"font-weight: bold\">)</span>,\n",
       "    <span style=\"color: #008080; text-decoration-color: #008080; font-weight: bold\">111650816021472813109846799907404607326</span>: <span style=\"color: #800080; text-decoration-color: #800080; font-weight: bold\">mpq</span><span style=\"font-weight: bold\">(</span><span style=\"color: #008080; text-decoration-color: #008080; font-weight: bold\">-22169881</span>,<span style=\"color: #008080; text-decoration-color: #008080; font-weight: bold\">2</span><span style=\"font-weight: bold\">)</span>,\n",
       "    <span style=\"color: #008080; text-decoration-color: #008080; font-weight: bold\">17347575028682568824563806773706424345</span>: <span style=\"color: #800080; text-decoration-color: #800080; font-weight: bold\">mpq</span><span style=\"font-weight: bold\">(</span><span style=\"color: #008080; text-decoration-color: #008080; font-weight: bold\">-35095743</span>,<span style=\"color: #008080; text-decoration-color: #008080; font-weight: bold\">1</span><span style=\"font-weight: bold\">)</span>,\n",
       "    <span style=\"color: #008080; text-decoration-color: #008080; font-weight: bold\">338163571304105284126756706272513642721</span>: <span style=\"color: #800080; text-decoration-color: #800080; font-weight: bold\">mpq</span><span style=\"font-weight: bold\">(</span><span style=\"color: #008080; text-decoration-color: #008080; font-weight: bold\">280639315</span>,<span style=\"color: #008080; text-decoration-color: #008080; font-weight: bold\">2</span><span style=\"font-weight: bold\">)</span>\n",
       "<span style=\"font-weight: bold\">}</span>\n",
       "</pre>\n"
      ],
      "text/plain": [
       "\n",
       "\u001b[1m{\u001b[0m\n",
       "    \u001b[1;36m165850954815882573261101579101827098358\u001b[0m: \u001b[1;35mmpq\u001b[0m\u001b[1m(\u001b[0m\u001b[1;36m-9246\u001b[0m,\u001b[1;36m1\u001b[0m\u001b[1m)\u001b[0m,\n",
       "    \u001b[1;36m78333310855796287558858939065325830954\u001b[0m: \u001b[1;35mmpq\u001b[0m\u001b[1m(\u001b[0m\u001b[1;36m73815\u001b[0m,\u001b[1;36m1\u001b[0m\u001b[1m)\u001b[0m,\n",
       "    \u001b[1;36m303414898855562656201290561786245995556\u001b[0m: \u001b[1;35mmpq\u001b[0m\u001b[1m(\u001b[0m\u001b[1;36m238400\u001b[0m,\u001b[1;36m1\u001b[0m\u001b[1m)\u001b[0m,\n",
       "    \u001b[1;36m110549758256875373219715569694639490195\u001b[0m: \u001b[1;35mmpq\u001b[0m\u001b[1m(\u001b[0m\u001b[1;36m-175888\u001b[0m,\u001b[1;36m1\u001b[0m\u001b[1m)\u001b[0m,\n",
       "    \u001b[1;36m223136372572965624571741167172143352088\u001b[0m: \u001b[1;35mmpq\u001b[0m\u001b[1m(\u001b[0m\u001b[1;36m-109845\u001b[0m,\u001b[1;36m1\u001b[0m\u001b[1m)\u001b[0m,\n",
       "    \u001b[1;36m47693011321269647785466125402148551179\u001b[0m: \u001b[1;35mmpq\u001b[0m\u001b[1m(\u001b[0m\u001b[1;36m-1094229\u001b[0m,\u001b[1;36m1\u001b[0m\u001b[1m)\u001b[0m,\n",
       "    \u001b[1;36m152037926432527496922685215149030498609\u001b[0m: \u001b[1;35mmpq\u001b[0m\u001b[1m(\u001b[0m\u001b[1;36m-1738197\u001b[0m,\u001b[1;36m1\u001b[0m\u001b[1m)\u001b[0m,\n",
       "    \u001b[1;36m126566733879806345007262758929160877404\u001b[0m: \u001b[1;35mmpq\u001b[0m\u001b[1m(\u001b[0m\u001b[1;36m-2348271\u001b[0m,\u001b[1;36m2\u001b[0m\u001b[1m)\u001b[0m,\n",
       "    \u001b[1;36m187796408876607823777095462536150071883\u001b[0m: \u001b[1;35mmpq\u001b[0m\u001b[1m(\u001b[0m\u001b[1;36m1534746\u001b[0m,\u001b[1;36m1\u001b[0m\u001b[1m)\u001b[0m,\n",
       "    \u001b[1;36m307964237826510534580715546567473953988\u001b[0m: \u001b[1;35mmpq\u001b[0m\u001b[1m(\u001b[0m\u001b[1;36m2688111\u001b[0m,\u001b[1;36m1\u001b[0m\u001b[1m)\u001b[0m,\n",
       "    \u001b[1;36m104568620648266557291130478952926438888\u001b[0m: \u001b[1;35mmpq\u001b[0m\u001b[1m(\u001b[0m\u001b[1;36m3754314\u001b[0m,\u001b[1;36m1\u001b[0m\u001b[1m)\u001b[0m,\n",
       "    \u001b[1;36m130698121361272427350831300242843799656\u001b[0m: \u001b[1;35mmpq\u001b[0m\u001b[1m(\u001b[0m\u001b[1;36m2565735\u001b[0m,\u001b[1;36m2\u001b[0m\u001b[1m)\u001b[0m,\n",
       "    \u001b[1;36m168903408828495428992596687292682726914\u001b[0m: \u001b[1;35mmpq\u001b[0m\u001b[1m(\u001b[0m\u001b[1;36m909500\u001b[0m,\u001b[1;36m1\u001b[0m\u001b[1m)\u001b[0m,\n",
       "    \u001b[1;36m223815617000840717351559801460551249083\u001b[0m: \u001b[1;35mmpq\u001b[0m\u001b[1m(\u001b[0m\u001b[1;36m111938\u001b[0m,\u001b[1;36m1\u001b[0m\u001b[1m)\u001b[0m,\n",
       "    \u001b[1;36m293772219755276500713190244351019427011\u001b[0m: \u001b[1;35mmpq\u001b[0m\u001b[1m(\u001b[0m\u001b[1;36m12445155\u001b[0m,\u001b[1;36m1\u001b[0m\u001b[1m)\u001b[0m,\n",
       "    \u001b[1;36m225362980691488088278311700040940134807\u001b[0m: \u001b[1;35mmpq\u001b[0m\u001b[1m(\u001b[0m\u001b[1;36m2177574\u001b[0m,\u001b[1;36m1\u001b[0m\u001b[1m)\u001b[0m,\n",
       "    \u001b[1;36m219835990489705635338700540817960664575\u001b[0m: \u001b[1;35mmpq\u001b[0m\u001b[1m(\u001b[0m\u001b[1;36m4875256\u001b[0m,\u001b[1;36m1\u001b[0m\u001b[1m)\u001b[0m,\n",
       "    \u001b[1;36m263575285651566782557558127486509419551\u001b[0m: \u001b[1;35mmpq\u001b[0m\u001b[1m(\u001b[0m\u001b[1;36m-60067845\u001b[0m,\u001b[1;36m2\u001b[0m\u001b[1m)\u001b[0m,\n",
       "    \u001b[1;36m319237159168907457379966915349929167706\u001b[0m: \u001b[1;35mmpq\u001b[0m\u001b[1m(\u001b[0m\u001b[1;36m-10527076\u001b[0m,\u001b[1;36m1\u001b[0m\u001b[1m)\u001b[0m,\n",
       "    \u001b[1;36m104910323149882966727021637135447736987\u001b[0m: \u001b[1;35mmpq\u001b[0m\u001b[1m(\u001b[0m\u001b[1;36m-10360537\u001b[0m,\u001b[1;36m1\u001b[0m\u001b[1m)\u001b[0m,\n",
       "    \u001b[1;36m319010079056079060980982168407474270157\u001b[0m: \u001b[1;35mmpq\u001b[0m\u001b[1m(\u001b[0m\u001b[1;36m-12737789\u001b[0m,\u001b[1;36m2\u001b[0m\u001b[1m)\u001b[0m,\n",
       "    \u001b[1;36m111650816021472813109846799907404607326\u001b[0m: \u001b[1;35mmpq\u001b[0m\u001b[1m(\u001b[0m\u001b[1;36m-22169881\u001b[0m,\u001b[1;36m2\u001b[0m\u001b[1m)\u001b[0m,\n",
       "    \u001b[1;36m17347575028682568824563806773706424345\u001b[0m: \u001b[1;35mmpq\u001b[0m\u001b[1m(\u001b[0m\u001b[1;36m-35095743\u001b[0m,\u001b[1;36m1\u001b[0m\u001b[1m)\u001b[0m,\n",
       "    \u001b[1;36m338163571304105284126756706272513642721\u001b[0m: \u001b[1;35mmpq\u001b[0m\u001b[1m(\u001b[0m\u001b[1;36m280639315\u001b[0m,\u001b[1;36m2\u001b[0m\u001b[1m)\u001b[0m\n",
       "\u001b[1m}\u001b[0m\n"
      ]
     },
     "metadata": {},
     "output_type": "display_data"
    }
   ],
   "source": [
    "hombase_pattern_terms = dict()\n",
    "\n",
    "for spasm_id, coeff in ex_pat.hombase.items():\n",
    "    spasm_graph = spasm_space[spasm_id]\n",
    "    spasm_count = naive_pandas_homcount(spasm_graph, host_df)\n",
    "    hombase_pattern_terms[spasm_id] = coeff * spasm_count\n",
    "\n",
    "print('#Sub(P -> H):', sum(hombase_pattern_terms.values()))\n",
    "\n",
    "# we also display the individual terms of the sum for each F in Spasm(P)\n",
    "hombase_pattern_terms"
   ]
  },
  {
   "cell_type": "markdown",
   "id": "019f9894",
   "metadata": {},
   "source": [
    "## Counting all Patterns\n",
    "\n",
    "When we want to count the subgraph occurrences for a number of different patterns we can be a bit smarter.\n",
    "In settings such as our example, many graphs occur in the homomorphism base of multiple patterns. \n",
    "\n",
    "Rather than counting their homomorphism counts repeatedly for each pattern, we can instead count the homomorphisms once for every graph in the spasm space and compute the patterns counts all at once.\n"
   ]
  },
  {
   "cell_type": "code",
   "execution_count": 15,
   "id": "2bec5099",
   "metadata": {},
   "outputs": [
    {
     "data": {
      "application/vnd.jupyter.widget-view+json": {
       "model_id": "71c6d07c145f44278ef5ec444e9bc2d1",
       "version_major": 2,
       "version_minor": 0
      },
      "text/plain": [
       "Output()"
      ]
     },
     "metadata": {},
     "output_type": "display_data"
    },
    {
     "data": {
      "text/html": [
       "<pre style=\"white-space:pre;overflow-x:auto;line-height:normal;font-family:Menlo,'DejaVu Sans Mono',consolas,'Courier New',monospace\"></pre>\n"
      ],
      "text/plain": []
     },
     "metadata": {},
     "output_type": "display_data"
    },
    {
     "data": {
      "text/html": [
       "<pre style=\"white-space:pre;overflow-x:auto;line-height:normal;font-family:Menlo,'DejaVu Sans Mono',consolas,'Courier New',monospace\">\n",
       "</pre>\n"
      ],
      "text/plain": [
       "\n"
      ]
     },
     "metadata": {},
     "output_type": "display_data"
    },
    {
     "data": {
      "text/html": [
       "<pre style=\"white-space:pre;overflow-x:auto;line-height:normal;font-family:Menlo,'DejaVu Sans Mono',consolas,'Courier New',monospace\">\n",
       "<span style=\"font-weight: bold\">{</span>\n",
       "    <span style=\"color: #008080; text-decoration-color: #008080; font-weight: bold\">314474971788157545568400539705102838785</span>: <span style=\"color: #800080; text-decoration-color: #800080; font-weight: bold\">mpq</span><span style=\"font-weight: bold\">(</span><span style=\"color: #008080; text-decoration-color: #008080; font-weight: bold\">68828058</span>,<span style=\"color: #008080; text-decoration-color: #008080; font-weight: bold\">1</span><span style=\"font-weight: bold\">)</span>,\n",
       "    <span style=\"color: #008080; text-decoration-color: #008080; font-weight: bold\">239481607680695132050448186767691313111</span>: <span style=\"color: #800080; text-decoration-color: #800080; font-weight: bold\">mpq</span><span style=\"font-weight: bold\">(</span><span style=\"color: #008080; text-decoration-color: #008080; font-weight: bold\">109656596</span>,<span style=\"color: #008080; text-decoration-color: #008080; font-weight: bold\">1</span><span style=\"font-weight: bold\">)</span>,\n",
       "    <span style=\"color: #008080; text-decoration-color: #008080; font-weight: bold\">21776057547211374316073301368685686225</span>: <span style=\"color: #800080; text-decoration-color: #800080; font-weight: bold\">mpq</span><span style=\"font-weight: bold\">(</span><span style=\"color: #008080; text-decoration-color: #008080; font-weight: bold\">30382730</span>,<span style=\"color: #008080; text-decoration-color: #008080; font-weight: bold\">1</span><span style=\"font-weight: bold\">)</span>,\n",
       "    <span style=\"color: #008080; text-decoration-color: #008080; font-weight: bold\">277045980633195981452261291108298182780</span>: <span style=\"color: #800080; text-decoration-color: #800080; font-weight: bold\">mpq</span><span style=\"font-weight: bold\">(</span><span style=\"color: #008080; text-decoration-color: #008080; font-weight: bold\">53045833</span>,<span style=\"color: #008080; text-decoration-color: #008080; font-weight: bold\">1</span><span style=\"font-weight: bold\">)</span>,\n",
       "    <span style=\"color: #008080; text-decoration-color: #008080; font-weight: bold\">234581386718133443533829931325137670128</span>: <span style=\"color: #800080; text-decoration-color: #800080; font-weight: bold\">mpq</span><span style=\"font-weight: bold\">(</span><span style=\"color: #008080; text-decoration-color: #008080; font-weight: bold\">82915983</span>,<span style=\"color: #008080; text-decoration-color: #008080; font-weight: bold\">1</span><span style=\"font-weight: bold\">)</span>,\n",
       "    <span style=\"color: #008080; text-decoration-color: #008080; font-weight: bold\">277285981857832108724657477637484472473</span>: <span style=\"color: #800080; text-decoration-color: #800080; font-weight: bold\">mpq</span><span style=\"font-weight: bold\">(</span><span style=\"color: #008080; text-decoration-color: #008080; font-weight: bold\">56009486</span>,<span style=\"color: #008080; text-decoration-color: #008080; font-weight: bold\">1</span><span style=\"font-weight: bold\">)</span>,\n",
       "    <span style=\"color: #008080; text-decoration-color: #008080; font-weight: bold\">338129118357455526220086133060798815993</span>: <span style=\"color: #800080; text-decoration-color: #800080; font-weight: bold\">mpq</span><span style=\"font-weight: bold\">(</span><span style=\"color: #008080; text-decoration-color: #008080; font-weight: bold\">50062057</span>,<span style=\"color: #008080; text-decoration-color: #008080; font-weight: bold\">1</span><span style=\"font-weight: bold\">)</span>,\n",
       "    <span style=\"color: #008080; text-decoration-color: #008080; font-weight: bold\">242641828784396904252110635446514250485</span>: <span style=\"color: #800080; text-decoration-color: #800080; font-weight: bold\">mpq</span><span style=\"font-weight: bold\">(</span><span style=\"color: #008080; text-decoration-color: #008080; font-weight: bold\">93357910</span>,<span style=\"color: #008080; text-decoration-color: #008080; font-weight: bold\">1</span><span style=\"font-weight: bold\">)</span>,\n",
       "    <span style=\"color: #008080; text-decoration-color: #008080; font-weight: bold\">215804242219987587017035894427460650961</span>: <span style=\"color: #800080; text-decoration-color: #800080; font-weight: bold\">mpq</span><span style=\"font-weight: bold\">(</span><span style=\"color: #008080; text-decoration-color: #008080; font-weight: bold\">14232418</span>,<span style=\"color: #008080; text-decoration-color: #008080; font-weight: bold\">1</span><span style=\"font-weight: bold\">)</span>,\n",
       "    <span style=\"color: #008080; text-decoration-color: #008080; font-weight: bold\">41450533916025830176929172712621035049</span>: <span style=\"color: #800080; text-decoration-color: #800080; font-weight: bold\">mpq</span><span style=\"font-weight: bold\">(</span><span style=\"color: #008080; text-decoration-color: #008080; font-weight: bold\">62638680</span>,<span style=\"color: #008080; text-decoration-color: #008080; font-weight: bold\">1</span><span style=\"font-weight: bold\">)</span>,\n",
       "    <span style=\"color: #008080; text-decoration-color: #008080; font-weight: bold\">87464711807959837447482655192647233783</span>: <span style=\"color: #800080; text-decoration-color: #800080; font-weight: bold\">mpq</span><span style=\"font-weight: bold\">(</span><span style=\"color: #008080; text-decoration-color: #008080; font-weight: bold\">9372935</span>,<span style=\"color: #008080; text-decoration-color: #008080; font-weight: bold\">1</span><span style=\"font-weight: bold\">)</span>\n",
       "<span style=\"font-weight: bold\">}</span>\n",
       "</pre>\n"
      ],
      "text/plain": [
       "\n",
       "\u001b[1m{\u001b[0m\n",
       "    \u001b[1;36m314474971788157545568400539705102838785\u001b[0m: \u001b[1;35mmpq\u001b[0m\u001b[1m(\u001b[0m\u001b[1;36m68828058\u001b[0m,\u001b[1;36m1\u001b[0m\u001b[1m)\u001b[0m,\n",
       "    \u001b[1;36m239481607680695132050448186767691313111\u001b[0m: \u001b[1;35mmpq\u001b[0m\u001b[1m(\u001b[0m\u001b[1;36m109656596\u001b[0m,\u001b[1;36m1\u001b[0m\u001b[1m)\u001b[0m,\n",
       "    \u001b[1;36m21776057547211374316073301368685686225\u001b[0m: \u001b[1;35mmpq\u001b[0m\u001b[1m(\u001b[0m\u001b[1;36m30382730\u001b[0m,\u001b[1;36m1\u001b[0m\u001b[1m)\u001b[0m,\n",
       "    \u001b[1;36m277045980633195981452261291108298182780\u001b[0m: \u001b[1;35mmpq\u001b[0m\u001b[1m(\u001b[0m\u001b[1;36m53045833\u001b[0m,\u001b[1;36m1\u001b[0m\u001b[1m)\u001b[0m,\n",
       "    \u001b[1;36m234581386718133443533829931325137670128\u001b[0m: \u001b[1;35mmpq\u001b[0m\u001b[1m(\u001b[0m\u001b[1;36m82915983\u001b[0m,\u001b[1;36m1\u001b[0m\u001b[1m)\u001b[0m,\n",
       "    \u001b[1;36m277285981857832108724657477637484472473\u001b[0m: \u001b[1;35mmpq\u001b[0m\u001b[1m(\u001b[0m\u001b[1;36m56009486\u001b[0m,\u001b[1;36m1\u001b[0m\u001b[1m)\u001b[0m,\n",
       "    \u001b[1;36m338129118357455526220086133060798815993\u001b[0m: \u001b[1;35mmpq\u001b[0m\u001b[1m(\u001b[0m\u001b[1;36m50062057\u001b[0m,\u001b[1;36m1\u001b[0m\u001b[1m)\u001b[0m,\n",
       "    \u001b[1;36m242641828784396904252110635446514250485\u001b[0m: \u001b[1;35mmpq\u001b[0m\u001b[1m(\u001b[0m\u001b[1;36m93357910\u001b[0m,\u001b[1;36m1\u001b[0m\u001b[1m)\u001b[0m,\n",
       "    \u001b[1;36m215804242219987587017035894427460650961\u001b[0m: \u001b[1;35mmpq\u001b[0m\u001b[1m(\u001b[0m\u001b[1;36m14232418\u001b[0m,\u001b[1;36m1\u001b[0m\u001b[1m)\u001b[0m,\n",
       "    \u001b[1;36m41450533916025830176929172712621035049\u001b[0m: \u001b[1;35mmpq\u001b[0m\u001b[1m(\u001b[0m\u001b[1;36m62638680\u001b[0m,\u001b[1;36m1\u001b[0m\u001b[1m)\u001b[0m,\n",
       "    \u001b[1;36m87464711807959837447482655192647233783\u001b[0m: \u001b[1;35mmpq\u001b[0m\u001b[1m(\u001b[0m\u001b[1;36m9372935\u001b[0m,\u001b[1;36m1\u001b[0m\u001b[1m)\u001b[0m\n",
       "\u001b[1m}\u001b[0m\n"
      ]
     },
     "metadata": {},
     "output_type": "display_data"
    }
   ],
   "source": [
    "pattern_counts = {pattern_id: 0 for pattern_id in patterns.keys()}\n",
    "\n",
    "with default_progressbar() as progress:\n",
    "    track = progress.track(spasm_space.graphs_iter(), total=len(spasm_space))\n",
    "    for spasm_graph in track:\n",
    "        hom_count = naive_pandas_homcount(spasm_graph, host_df)\n",
    "\n",
    "        for pattern in patterns.values():\n",
    "            if spasm_graph.id in pattern.hombase:\n",
    "                coeff = pattern.hombase[spasm_graph.id]\n",
    "                to_add = hom_count * coeff\n",
    "                pattern_counts[pattern.id] += to_add\n",
    "\n",
    "pattern_counts"
   ]
  },
  {
   "cell_type": "markdown",
   "id": "d99203d1",
   "metadata": {},
   "source": [
    "## Plot the Most Common Patterns\n",
    "\n",
    "From here on you can analyse our results with whichever tools you prefer. Here is an example of plotting the top counts and plotting the top 3 patterns."
   ]
  },
  {
   "cell_type": "code",
   "execution_count": 16,
   "id": "872519c7",
   "metadata": {},
   "outputs": [
    {
     "data": {
      "text/html": [
       "<div>\n",
       "<style scoped>\n",
       "    .dataframe tbody tr th:only-of-type {\n",
       "        vertical-align: middle;\n",
       "    }\n",
       "\n",
       "    .dataframe tbody tr th {\n",
       "        vertical-align: top;\n",
       "    }\n",
       "\n",
       "    .dataframe thead th {\n",
       "        text-align: right;\n",
       "    }\n",
       "</style>\n",
       "<table border=\"1\" class=\"dataframe\">\n",
       "  <thead>\n",
       "    <tr style=\"text-align: right;\">\n",
       "      <th></th>\n",
       "      <th>pattern</th>\n",
       "      <th>#Sub</th>\n",
       "    </tr>\n",
       "  </thead>\n",
       "  <tbody>\n",
       "    <tr>\n",
       "      <th>1</th>\n",
       "      <td>239481607680695132050448186767691313111</td>\n",
       "      <td>109656596</td>\n",
       "    </tr>\n",
       "    <tr>\n",
       "      <th>7</th>\n",
       "      <td>242641828784396904252110635446514250485</td>\n",
       "      <td>93357910</td>\n",
       "    </tr>\n",
       "    <tr>\n",
       "      <th>4</th>\n",
       "      <td>234581386718133443533829931325137670128</td>\n",
       "      <td>82915983</td>\n",
       "    </tr>\n",
       "    <tr>\n",
       "      <th>0</th>\n",
       "      <td>314474971788157545568400539705102838785</td>\n",
       "      <td>68828058</td>\n",
       "    </tr>\n",
       "    <tr>\n",
       "      <th>9</th>\n",
       "      <td>41450533916025830176929172712621035049</td>\n",
       "      <td>62638680</td>\n",
       "    </tr>\n",
       "  </tbody>\n",
       "</table>\n",
       "</div>"
      ]
     },
     "execution_count": 16,
     "metadata": {},
     "output_type": "execute_result"
    }
   ],
   "source": [
    "result_df = pd.DataFrame({'pattern': pid, '#Sub': int(c)} for pid, c in pattern_counts.items())\n",
    "\n",
    "# show the top patterns\n",
    "result_df.sort_values('#Sub', ascending=False).head()"
   ]
  },
  {
   "cell_type": "code",
   "execution_count": 17,
   "id": "2e594ea6",
   "metadata": {},
   "outputs": [
    {
     "data": {
      "image/png": "[encoded data removed]"
     },
     "metadata": {},
     "output_type": "display_data"
    }
   ],
   "source": [
    "# maybe create a reporting library? or just copy paste for now\n",
    "\n",
    "def draw_topn_patterns(df, n):\n",
    "    analysisdf = df\n",
    "\n",
    "    subcol = [c for c in df.columns if '#Sub' in c][0]\n",
    "    fig = plt.figure(figsize=(3*n-1,3))\n",
    "    fig.suptitle(f'Top {n} patterns')\n",
    "    gs = fig.add_gridspec(nrows=1, ncols=n)\n",
    "\n",
    "    for i in range(n):\n",
    "        ax1 = fig.add_subplot(gs[0, i])\n",
    "        most = analysisdf.sort_values(subcol, ascending=False).iloc[i]\n",
    "        nx.draw(patterns[most.pattern].graph)\n",
    "        plt.title(f'Rank {i+1}: {most[subcol]:.3E} times')\n",
    "    plt.tight_layout(w_pad=5)\n",
    "    \n",
    "draw_topn_patterns(result_df, 5)"
   ]
  },
  {
   "cell_type": "markdown",
   "id": "d339e3c7",
   "metadata": {},
   "source": [
    "## Appendix A: Generating the Tutorial Inputs"
   ]
  },
  {
   "cell_type": "code",
   "execution_count": 18,
   "id": "a64e9623",
   "metadata": {},
   "outputs": [],
   "source": [
    "# TODO"
   ]
  }
 ],
 "metadata": {
  "kernelspec": {
   "display_name": "Python 3 (ipykernel)",
   "language": "python",
   "name": "python3"
  },
  "language_info": {
   "codemirror_mode": {
    "name": "ipython",
    "version": 3
   },
   "file_extension": ".py",
   "mimetype": "text/x-python",
   "name": "python",
   "nbconvert_exporter": "python",
   "pygments_lexer": "ipython3",
   "version": "3.10.8"
  }
 },
 "nbformat": 4,
 "nbformat_minor": 5
}
