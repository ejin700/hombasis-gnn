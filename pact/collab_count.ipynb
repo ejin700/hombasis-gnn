{
 "cells": [
  {
   "cell_type": "code",
   "execution_count": 2,
   "id": "5fca98c3",
   "metadata": {},
   "outputs": [],
   "source": [
    "import matplotlib.pyplot as plt\n",
    "import os\n",
    "import ogb\n",
    "import math\n",
    "\n",
    "import json\n",
    "import networkx as nx\n",
    "import pandas as pd\n",
    "from ogb.linkproppred import PygLinkPropPredDataset\n",
    "\n",
    "from pact.spasmspace import SpasmSpace\n",
    "from pact.graphwrapper import GraphWrapper\n",
    "from pact.ui import default_progressbar\n",
    "from pact.naive_exec import naive_pandas_plan_exec, _undir_df_degree_thres, sliced_pandas_homcount\n",
    "import dill\n",
    "import multiprocess as mp\n",
    "\n",
    "import random\n",
    "\n",
    "MAX_THREADS = 20\n",
    "OUTPUT_FILE = f'collab/collab_clique5_counts.json'\n",
    "# _SPARSIFY = 50000\n",
    "\n",
    "BASIS_FILE = f'bases/cliques/clique4_basis.json'\n",
    "\n",
    "\n",
    "with open(BASIS_FILE, 'rb') as f:\n",
    "    basis_info = dill.loads(f.read())\n",
    "spsp = basis_info['SpasmSpace']\n",
    "Pbasis = basis_info['basis']\n",
    "\n",
    "\n"
   ]
  },
  {
   "cell_type": "code",
   "execution_count": 31,
   "id": "b8670e56",
   "metadata": {},
   "outputs": [],
   "source": [
    "basis_order = list(Pbasis.keys())\n",
    "select_basis = basis_order[9:]\n",
    "\n",
    "new_basis = {}\n",
    "for i in select_basis:\n",
    "    new_basis[i] = Pbasis[i]"
   ]
  },
  {
   "cell_type": "code",
   "execution_count": 32,
   "id": "f82eb584",
   "metadata": {},
   "outputs": [],
   "source": [
    "new_basis[basis_order[7]] = Pbasis[basis_order[7]]"
   ]
  },
  {
   "cell_type": "code",
   "execution_count": 43,
   "id": "16469e76",
   "metadata": {},
   "outputs": [
    {
     "data": {
      "image/png": "[encoded data removed]",
      "text/plain": [
       "<Figure size 1000x200 with 1 Axes>"
      ]
     },
     "metadata": {},
     "output_type": "display_data"
    }
   ],
   "source": [
    "\"\"\"\n",
    "Draw the basis nicely\n",
    "\"\"\"\n",
    "rows = math.ceil(len(Pbasis)/5)\n",
    "fig = plt.figure(figsize=(5*2,2*rows))\n",
    "gs = fig.add_gridspec(nrows=rows, ncols=5)\n",
    "\n",
    "r,c = 0,0\n",
    "\n",
    "for gid, alpha in Pbasis.items():\n",
    "    fig.add_subplot(gs[r,c])\n",
    "    \n",
    "    # spsp[gid] is the GraphWrapper object with id = gid\n",
    "    # the .graph attribute here is the raw networkx object used for drawing\n",
    "    nx.draw(spsp[gid].graph, node_size=200, with_labels=True, font_color='whitesmoke')\n",
    "    # plt.title(f'coefficient: {alpha.digits()}\\n')\n",
    "    \n",
    "    \n",
    "    c+=1\n",
    "    if c >= 5:\n",
    "        r += 1\n",
    "        c = 0\n",
    "plt.tight_layout()"
   ]
  },
  {
   "cell_type": "markdown",
   "id": "9115aa07",
   "metadata": {},
   "source": [
    "# Setup Data"
   ]
  },
  {
   "cell_type": "code",
   "execution_count": 3,
   "id": "89b652c0",
   "metadata": {},
   "outputs": [],
   "source": [
    "dataset = PygLinkPropPredDataset(name = \"ogbl-collab\", root = 'dataset/')\n",
    "data = dataset[0]"
   ]
  },
  {
   "cell_type": "code",
   "execution_count": 4,
   "id": "4b632589",
   "metadata": {},
   "outputs": [
    {
     "name": "stdout",
     "output_type": "stream",
     "text": [
      "23367 60084\n"
     ]
    }
   ],
   "source": [
    "edges = [[x.item() for x in e] for e in dataset.get_edge_split()['valid']['edge']]\n",
    "G = nx.from_edgelist(edges)\n",
    "print(G.order(), G.size())\n",
    "\n",
    "def sparsify(sz):\n",
    "    global G\n",
    "    subg = random.sample(list(G.nodes), sz)\n",
    "    G = nx.induced_subgraph(G, subg)\n",
    "    print(G.order(), G.size())\n",
    "    \n",
    "# if _SPARSIFY is not None:\n",
    "#     sparsify(_SPARSIFY)"
   ]
  },
  {
   "cell_type": "code",
   "execution_count": 10,
   "id": "a93af282",
   "metadata": {},
   "outputs": [],
   "source": [
    "# convert a networkx graph and into a pandas DataFrame as expected by the naive plan executer\n",
    "def nxGtoDf(nxG):\n",
    "    edges = [{'s': a, 't': b} for a,b in nxG.edges()] + [{'s': b, 't': a} for a,b in nxG.edges()]\n",
    "    host_df = pd.DataFrame(edges).drop_duplicates()\n",
    "    return host_df\n",
    "\n",
    "df = nxGtoDf(G)\n",
    "#del G"
   ]
  },
  {
   "cell_type": "markdown",
   "id": "8d6d5e7c",
   "metadata": {},
   "source": [
    "# Actual Implementation for Sliced Counting of Homomorphisms"
   ]
  },
  {
   "cell_type": "code",
   "execution_count": 11,
   "id": "d9827f43",
   "metadata": {},
   "outputs": [],
   "source": [
    "from pact.operation import Operation\n",
    "\n",
    "def suggest_slice_var(P):\n",
    "    plan = P.plan\n",
    "    slice_var_guess = 0\n",
    "    for op in plan:\n",
    "        if op.kind != Operation.JOIN:\n",
    "            continue\n",
    "        slice_var_guess = list(op.key)[0]\n",
    "        break\n",
    "        \n",
    "    if P.cycle is not None and P.cycle > 4:\n",
    "        for op in reversed(plan):\n",
    "            if op.kind != Operation.JOIN:\n",
    "                continue\n",
    "            if 'node$' in op.A:\n",
    "                slice_var_guess = list(op.key)[0]\n",
    "    return slice_var_guess\n",
    "\n",
    "def sliced_counts(pattern, host, progress=None, slice_var=0, interval_size=200, threads=3):\n",
    "    THREADS = threads\n",
    "    _MARK_VTX=0\n",
    "\n",
    "    def homcounts_per_vertex(F, host_df, slicer):\n",
    "        state, empty = naive_pandas_plan_exec(F.plan, host_df, sliced_eval=slicer)\n",
    "        if not empty:\n",
    "            finalcount = state['node$0']\n",
    "            key = _MARK_VTX\n",
    "            return finalcount.groupby(key)['count'].sum().to_dict()\n",
    "        else:\n",
    "            return {}\n",
    "\n",
    "    def _helper(interval):\n",
    "        lo, hi = interval\n",
    "        slicer = {slice_var: (lo, hi)}\n",
    "        return homcounts_per_vertex(pattern, host, slicer=slicer,)\n",
    "\n",
    "    if (not pattern.is_directed and hasattr(pattern, 'clique') and\n",
    "        pattern.clique is not None and pattern.clique > 2):\n",
    "        host = _undir_df_degree_thres(host, pattern.clique - 1)\n",
    "\n",
    "\n",
    "    top = host.max().max()\n",
    "    steps = list(range(0, top, interval_size)) + [None]\n",
    "    intervals = list(zip(steps, steps[1:]))\n",
    "    \n",
    "    if progress is None:\n",
    "        progress = default_progressbar()\n",
    "\n",
    "    acc = {}\n",
    "    with progress as localp:\n",
    "        pool = mp.Pool(THREADS)\n",
    "        track = localp.track(pool.imap_unordered(_helper, intervals),\n",
    "                                   total=len(intervals))\n",
    "        for slice_count in track:\n",
    "            for vertex, vcount in slice_count.items():\n",
    "                acc[vertex] = acc.get(vertex,0)+vcount\n",
    "    return acc\n",
    "\n",
    "def _local_test():\n",
    "    slice_var = suggest_slice_var(P)\n",
    "    if P.ghw == 1:\n",
    "        interval_size = 10000\n",
    "    elif P.ghw >= 2:\n",
    "        interval_size = 200\n",
    "\n",
    "    _ = sliced_counts(P, df.iloc[:10],\n",
    "                      slice_var=slice_var, interval_size=interval_size, threads=1)\n",
    "    print(f'(sliced on {slice_var})')"
   ]
  },
  {
   "cell_type": "markdown",
   "id": "81ee00ab",
   "metadata": {},
   "source": [
    "# Counting Happens down here"
   ]
  },
  {
   "cell_type": "code",
   "execution_count": 44,
   "id": "29560b9f",
   "metadata": {},
   "outputs": [
    {
     "name": "stdout",
     "output_type": "stream",
     "text": [
      "Size of basis: 1\n"
     ]
    }
   ],
   "source": [
    "print('Size of basis:', len(Pbasis))"
   ]
  },
  {
   "cell_type": "code",
   "execution_count": 45,
   "id": "d51afb61",
   "metadata": {},
   "outputs": [
    {
     "data": {
      "application/vnd.jupyter.widget-view+json": {
       "model_id": "ea35e032f38f41969b136cb4c13aea89",
       "version_major": 2,
       "version_minor": 0
      },
      "text/plain": [
       "Output()"
      ]
     },
     "metadata": {},
     "output_type": "display_data"
    },
    {
     "data": {
      "text/html": [
       "<pre style=\"white-space:pre;overflow-x:auto;line-height:normal;font-family:Menlo,'DejaVu Sans Mono',consolas,'Courier New',monospace\"></pre>\n"
      ],
      "text/plain": []
     },
     "metadata": {},
     "output_type": "display_data"
    },
    {
     "data": {
      "text/html": [
       "<pre style=\"white-space:pre;overflow-x:auto;line-height:normal;font-family:Menlo,'DejaVu Sans Mono',consolas,'Courier New',monospace\">\n",
       "</pre>\n"
      ],
      "text/plain": [
       "\n"
      ]
     },
     "metadata": {},
     "output_type": "display_data"
    },
    {
     "data": {
      "text/html": [
       "<pre style=\"white-space:pre;overflow-x:auto;line-height:normal;font-family:Menlo,'DejaVu Sans Mono',consolas,'Courier New',monospace\">\n",
       "</pre>\n"
      ],
      "text/plain": [
       "\n"
      ]
     },
     "metadata": {},
     "output_type": "display_data"
    }
   ],
   "source": [
    "ordered_basis = [pid for pid in Pbasis.keys()]\n",
    "\n",
    "allcounts = {v: [] for v in G.nodes}\n",
    "with default_progressbar() as progress:\n",
    "    for pid in ordered_basis:\n",
    "        P = spsp[pid]\n",
    "        slice_var = suggest_slice_var(P)\n",
    "        if P.ghw == 1:\n",
    "            interval_size = 10000\n",
    "        else: interval_size = 200\n",
    "        Pcounts = sliced_counts(P, df, progress,\n",
    "                                slice_var=slice_var, interval_size=interval_size,\n",
    "                                threads=MAX_THREADS)\n",
    "        for k in allcounts.keys():\n",
    "            allcounts[k].append(Pcounts.get(k,0))\n",
    "            \n",
    "with open(OUTPUT_FILE, 'w') as f:\n",
    "    f.write(json.dumps(allcounts))"
   ]
  },
  {
   "cell_type": "code",
   "execution_count": null,
   "id": "c7daef96",
   "metadata": {},
   "outputs": [],
   "source": []
  }
 ],
 "metadata": {
  "kernelspec": {
   "display_name": "Python 3 (ipykernel)",
   "language": "python",
   "name": "python3"
  },
  "language_info": {
   "codemirror_mode": {
    "name": "ipython",
    "version": 3
   },
   "file_extension": ".py",
   "mimetype": "text/x-python",
   "name": "python",
   "nbconvert_exporter": "python",
   "pygments_lexer": "ipython3",
   "version": "3.11.5"
  }
 },
 "nbformat": 4,
 "nbformat_minor": 5
}
