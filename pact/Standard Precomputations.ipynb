{
 "cells": [
  {
   "cell_type": "markdown",
   "id": "136a1b09",
   "metadata": {},
   "source": [
    "# Default Precomputations\n",
    "\n",
    "This notebook contains the standard precomputation steps for normal motif counting settings.\n",
    "\n",
    "Simply choosing your setting via the respective `settings` module and running the notebook cells should be enough to be ready to count on arbitrary host graphs. \n",
    "\n",
    "At the end of the notebook we will store all of our precomputed structures, allowing us to easily reuse them for couting different host graphs.\n",
    "\n",
    "Completed precomputations are already included in standard distribution of pact for treelets of size 5 to 10. Those can be directly used using the Standard Counting notebook with no need for new precomputation."
   ]
  },
  {
   "cell_type": "code",
   "execution_count": null,
   "id": "a1629544",
   "metadata": {},
   "outputs": [],
   "source": [
    "%reload_ext rich\n",
    "\n",
    "import networkx as nx\n",
    "from itertools import repeat\n",
    "import dill\n",
    "from pact.ui import default_progressbar\n",
    "import multiprocess as mp\n",
    "from pact.graphwrapper import GraphWrapper\n",
    "from pact.hombase import *\n",
    "from pact.spasmspace import SpasmSpace\n",
    "from pact.balgowrapper import balgo_multitry_for_cheapest_decomp\n",
    "from pact.planner import node_to_ops, node_to_ops_earlysj\n",
    "\n",
    "\n",
    "from settings.treelets import *\n",
    "# The exact same code also works for the `all_directed` configuration of all connected graphs with k nodes.\n",
    "# The only change that is needed is to import the respective other settings module\n",
    "# instead of the treelets settings module.\n",
    "# from settings.all_directed import *\n",
    "\n",
    "K = 8"
   ]
  },
  {
   "cell_type": "markdown",
   "id": "09be8409",
   "metadata": {},
   "source": [
    "# Load Plain Graphs"
   ]
  },
  {
   "cell_type": "code",
   "execution_count": null,
   "id": "0d6d01a0",
   "metadata": {},
   "outputs": [],
   "source": [
    "pattern_file = raw_pattern_filename(K)\n",
    "spasm_files = raw_spasm_filenames(K)\n",
    "spasm_space = SpasmSpace()\n",
    "\n",
    "\n",
    "for sf in spasm_files:\n",
    "    with open(sf) as f:\n",
    "        lines = list(map(str.rstrip, f.readlines()))\n",
    "        spasm_space.add_from_g6lines(lines, SPASM_GRAPHWRAPPER_PARAMS)\n",
    "\n",
    "patterns = dict()\n",
    "with open(pattern_file) as f:  # tree8\n",
    "    lines = list(map(str.rstrip, f.readlines()))\n",
    "    for line in lines:\n",
    "        g = GraphWrapper.from_g6str(line, **PATTERN_GRAPHWRAPPER_PARAMS)\n",
    "        patterns[g.id] = g\n",
    "        \n",
    "print('Spasm base has', len(spasm_space), 'graphs')\n",
    "print('#patterns:', len(patterns))"
   ]
  },
  {
   "cell_type": "markdown",
   "id": "06a07d6d",
   "metadata": {},
   "source": [
    "# Compute everything (in parallel)\n"
   ]
  },
  {
   "cell_type": "code",
   "execution_count": null,
   "id": "6e633c85",
   "metadata": {},
   "outputs": [],
   "source": [
    "THREADS = 4\n",
    "def _helper(H):\n",
    "    return H.id, hombase_coeffs_nauty(H, spasm_space)\n",
    "\n",
    "with default_progressbar() as progress:\n",
    "    pool = mp.Pool(THREADS)\n",
    "    track = progress.track(pool.imap_unordered(_helper, patterns.values()),\n",
    "                           total=len(patterns))\n",
    "    for hid, coeffs in track:\n",
    "        patterns[hid].hombase = coeffs"
   ]
  },
  {
   "cell_type": "markdown",
   "id": "a34b7263",
   "metadata": {},
   "source": [
    "# Precompute Decompositions"
   ]
  },
  {
   "cell_type": "code",
   "execution_count": null,
   "id": "341997b3",
   "metadata": {},
   "outputs": [],
   "source": [
    "progress = default_progressbar()\n",
    "badness_acc = []\n",
    "with progress:\n",
    "    track = progress.track(list(enumerate(spasm_space.graphs_iter())))\n",
    "    for i, G in track:\n",
    "        decomp, cost = balgo_multitry_for_cheapest_decomp(G, times=40, threads=3)\n",
    "        G.td = decomp\n",
    "        G.td_badness = cost\n",
    "        badness_acc.append(cost)\n",
    "\n",
    "# We'd like these to be low\n",
    "print('Average badness: ', sum(badness_acc)/len(badness_acc)) \n",
    "print('Max badness: ', max(badness_acc))"
   ]
  },
  {
   "cell_type": "markdown",
   "id": "845fa254",
   "metadata": {},
   "source": [
    "# Add Execution Plans to our Spasm Space"
   ]
  },
  {
   "cell_type": "code",
   "execution_count": null,
   "id": "e8765d43",
   "metadata": {},
   "outputs": [],
   "source": [
    "with default_progressbar() as progress:\n",
    "    track = progress.track(list(spasm_space.graphs_iter()))\n",
    "    for G in track:\n",
    "        G.plan = node_to_ops_earlysj(G.td)"
   ]
  },
  {
   "cell_type": "markdown",
   "id": "365ae413",
   "metadata": {},
   "source": [
    "# Save our created structures"
   ]
  },
  {
   "cell_type": "code",
   "execution_count": null,
   "id": "6c92859d",
   "metadata": {},
   "outputs": [],
   "source": [
    "\n",
    "with open(spasm_filename(K), 'wb') as f:\n",
    "    spasm_space.cleanup_for_storage()\n",
    "    f.write(dill.dumps(spasm_space))\n",
    "\n",
    "with open(patterns_filename(K), 'wb') as f:\n",
    "    f.write(dill.dumps(patterns))"
   ]
  },
  {
   "cell_type": "code",
   "execution_count": null,
   "id": "16a1fc39",
   "metadata": {},
   "outputs": [],
   "source": []
  }
 ],
 "metadata": {
  "kernelspec": {
   "display_name": "Python 3 (ipykernel)",
   "language": "python",
   "name": "python3"
  },
  "language_info": {
   "codemirror_mode": {
    "name": "ipython",
    "version": 3
   },
   "file_extension": ".py",
   "mimetype": "text/x-python",
   "name": "python",
   "nbconvert_exporter": "python",
   "pygments_lexer": "ipython3",
   "version": "3.10.8"
  }
 },
 "nbformat": 4,
 "nbformat_minor": 5
}
