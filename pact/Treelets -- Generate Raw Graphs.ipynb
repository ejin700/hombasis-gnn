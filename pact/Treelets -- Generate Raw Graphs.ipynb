{
 "cells": [
  {
   "cell_type": "markdown",
   "id": "bcd708b3",
   "metadata": {},
   "source": [
    "# Generate Raw Graphs for Treelet Distributions\n",
    "\n",
    "This notebook will call nauty to generate graphs that fit the `settings.treelets` configuration.\n",
    "\n",
    "Simply set the tree size below (`tree_nodes`) and run the notebook. Afterwards the treelet configuration from `settings.treelets` should work automatically for your chosen tree size."
   ]
  },
  {
   "cell_type": "code",
   "execution_count": 5,
   "id": "75d1f379",
   "metadata": {},
   "outputs": [],
   "source": [
    "import subprocess\n",
    "from pathlib import Path\n",
    "\n",
    "tree_nodes = 5\n",
    "\n",
    "patterndir = 'data/patterns/graphs'\n",
    "Path(patterndir).mkdir(parents=True, exist_ok=True)\n",
    "\n",
    "spasm_dir = 'data/spasm/graphs'\n",
    "Path(spasm_dir).mkdir(parents=True, exist_ok=True)\n"
   ]
  },
  {
   "cell_type": "code",
   "execution_count": 6,
   "id": "107ac840",
   "metadata": {},
   "outputs": [
    {
     "name": "stderr",
     "output_type": "stream",
     "text": [
      ">A lib/nauty/gentreeg Z=2:4 D=4 n=5\n",
      ">Z 3 trees generated in 0.00 sec\n",
      ">A lib/nauty/geng -cd1D1 n=2 e=1\n",
      ">Z 1 graphs generated in 0.00 sec\n",
      ">A lib/nauty/geng -cd1D2 n=3 e=2-3\n",
      ">Z 2 graphs generated in 0.00 sec\n",
      ">A lib/nauty/geng -cd1D3 n=4 e=3-4\n",
      ">Z 4 graphs generated in 0.00 sec\n",
      ">A lib/nauty/geng -cd1D4 n=5 e=4\n",
      ">Z 3 graphs generated in 0.00 sec\n"
     ]
    }
   ],
   "source": [
    "max_edges = tree_nodes-1\n",
    "\n",
    "\n",
    "#trees\n",
    "patname = f'{patterndir}/patterns_tree{tree_nodes}.sparse6'\n",
    "subprocess.call(['lib/nauty/gentreeg', str(tree_nodes), patname])\n",
    "\n",
    "# spasm\n",
    "for v in range(2, tree_nodes+1):\n",
    "    name = f'{spasm_dir}/gen{v}v{max_edges}e.g6'\n",
    "    subprocess.call(['lib/nauty/geng', '-c', str(v), f'1:{max_edges}', name])\n"
   ]
  },
  {
   "cell_type": "code",
   "execution_count": null,
   "id": "d414646f",
   "metadata": {},
   "outputs": [],
   "source": []
  },
  {
   "cell_type": "code",
   "execution_count": null,
   "id": "bb99cf6a",
   "metadata": {},
   "outputs": [],
   "source": []
  }
 ],
 "metadata": {
  "kernelspec": {
   "display_name": "Python 3 (ipykernel)",
   "language": "python",
   "name": "python3"
  },
  "language_info": {
   "codemirror_mode": {
    "name": "ipython",
    "version": 3
   },
   "file_extension": ".py",
   "mimetype": "text/x-python",
   "name": "python",
   "nbconvert_exporter": "python",
   "pygments_lexer": "ipython3",
   "version": "3.10.8"
  }
 },
 "nbformat": 4,
 "nbformat_minor": 5
}
